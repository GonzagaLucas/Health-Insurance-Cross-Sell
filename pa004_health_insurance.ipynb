{
 "cells": [
  {
   "cell_type": "markdown",
   "id": "ec994af6",
   "metadata": {},
   "source": [
    "# 0.0 Imports"
   ]
  },
  {
   "cell_type": "code",
   "execution_count": 2,
   "id": "d4e622d6",
   "metadata": {
    "ExecuteTime": {
     "end_time": "2022-08-15T21:01:29.728265Z",
     "start_time": "2022-08-15T21:01:19.263956Z"
    }
   },
   "outputs": [],
   "source": [
    "import pandas       as pd\n",
    "import numpy        as np\n",
    "import seaborn      as sns\n",
    "import scikitplot   as skplt\n",
    "import xgboost      as xgb\n",
    "import warnings\n",
    "warnings.filterwarnings(\"ignore\")\n",
    "import random      as rd\n",
    "import pickle\n",
    "\n",
    "\n",
    "from scikitplot    import metrics as mt\n",
    "from sklearn       import metrics as m\n",
    "from sklearn.model_selection import StratifiedKFold\n",
    "from xgboost import XGBClassifier\n",
    "from IPython.core.display     import HTML\n",
    "from scipy                    import stats         as ss\n",
    "from sklearn                  import preprocessing as pp\n",
    "from sklearn                  import model_selection as ms\n",
    "from sklearn                  import ensemble as en\n",
    "from sklearn                  import neighbors as nh\n",
    "from sklearn.ensemble         import RandomForestClassifier\n",
    "from sklearn                  import linear_model as lm\n",
    "from sklearn.ensemble         import ExtraTreesClassifier\n",
    "from lightgbm                 import LGBMClassifier "
   ]
  },
  {
   "cell_type": "markdown",
   "id": "70fb2f96",
   "metadata": {},
   "source": [
    "## 0.1 Functions"
   ]
  },
  {
   "cell_type": "code",
   "execution_count": 3,
   "id": "5b7e5538",
   "metadata": {
    "ExecuteTime": {
     "end_time": "2022-08-15T21:01:29.865429Z",
     "start_time": "2022-08-15T21:01:29.730497Z"
    },
    "scrolled": true
   },
   "outputs": [
    {
     "name": "stdout",
     "output_type": "stream",
     "text": [
      "%pylab is deprecated, use %matplotlib inline and import the required libraries.\n",
      "Populating the interactive namespace from numpy and matplotlib\n"
     ]
    }
   ],
   "source": [
    "#configurando o notebook\n",
    "\n",
    "def jupyter_settings():\n",
    "    %matplotlib inline\n",
    "    %pylab inline\n",
    "    \n",
    "    plt.style.use( 'bmh' )\n",
    "    plt.rcParams['figure.figsize'] = [18, 9]\n",
    "    plt.rcParams['font.size'] = 24\n",
    "\n",
    "    pd.options.display.max_columns = None\n",
    "    pd.options.display.max_rows = None\n",
    "    pd.set_option( 'display.expand_frame_repr', False )\n",
    "    pd.set_option('display.float_format', lambda x: '%.5f' % x)\n",
    "    sns.set()\n",
    "    \n",
    "jupyter_settings()\n",
    "\n",
    "def cramer_v(x, y):\n",
    "    cm = pd.crosstab(x,y).values\n",
    "    n = cm.sum()\n",
    "    r, k = cm.shape\n",
    "    \n",
    "    chi2 = ss.chi2_contingency( cm )[0]\n",
    "    chi2corr = max( 0, chi2 - (k-1)*(r-1)/(n-1) )\n",
    "    \n",
    "    kcorr = k - (k-1)**2/(n-1)\n",
    "    rcorr = r - (r-1)**2/(n-1)\n",
    "    \n",
    "    return np.sqrt( (chi2corr/n) / ( min( kcorr-1, rcorr-1 )))\n",
    "\n",
    "\n",
    "def precision_at_k(data, y, pred, k=20000):\n",
    "    \n",
    "    data['response'] = y.copy()\n",
    "    data['score'] = pred[:, 1].tolist()\n",
    "\n",
    "    data = data.sort_values('score', ascending=False)\n",
    "    data = data.reset_index(drop=True)\n",
    "\n",
    "    data['ranking'] = data.index + 1\n",
    "    # precision\n",
    "    data['precision_at_k'] = data['response'].cumsum()/data['ranking']\n",
    "                            \n",
    "    return data.loc[k, 'precision_at_k']\n",
    "                  \n",
    "def recall_at_k(data, y, pred, k=20000):\n",
    "    \n",
    "    data['response'] = y.copy()\n",
    "    data['score'] = pred[:, 1].tolist()\n",
    "\n",
    "    data = data.sort_values('score', ascending=False)\n",
    "    data = data.reset_index(drop=True)\n",
    "                  \n",
    "    # create ranking order\n",
    "    data['ranking'] = data.index + 1\n",
    "    data['recall_at_k'] = data['response'].cumsum() / data['response'].sum()\n",
    "    \n",
    "    return data.loc[k, 'recall_at_k']                  \n",
    "\n",
    "def metrics_at_k(data, y, pred, model_name, k=20000):\n",
    "         \n",
    "    data['response'] = y.copy()\n",
    "    data['score'] = pred[:, 1].tolist()\n",
    "    # sort clients by propensity score\n",
    "    data = data.sort_values('score', ascending=False)\n",
    "    data = data.reset_index(drop=True)\n",
    "    # create ranking order\n",
    "    data['ranking'] = data.index + 1\n",
    "\n",
    "    # precision\n",
    "    data['precision_at_k'] = data['response'].cumsum()/data['ranking']\n",
    "    # recall\n",
    "    data['recall_at_k'] = data['response'].cumsum()/data['response'].sum()\n",
    "                            \n",
    "    return pd.DataFrame({'Precision_at_k':data.loc[k, 'precision_at_k'],\n",
    "                        'Recall_at_k':data.loc[k, 'recall_at_k']}, index=[model_name])\n",
    "\n",
    "def cross_validation(model_name, model, x, y):\n",
    "    \n",
    "    precision_at_k_list = []\n",
    "    recall_at_k_list = []\n",
    "\n",
    "    \n",
    "    skf = StratifiedKFold(n_splits=5, shuffle=True, random_state=42)\n",
    "    \n",
    "    for train_index, test_index in skf.split(x, y):\n",
    "        \n",
    "        x_train_cv = x.iloc[train_index]\n",
    "        y_train_cv = y.iloc[train_index]\n",
    "        \n",
    "        x_test_cv = x.iloc[test_index]\n",
    "        y_test_cv = y.iloc[test_index]\n",
    "        \n",
    "        \n",
    "        model.fit(x_train_cv, y_train_cv)\n",
    "        pred = model.predict_proba(x_test_cv)\n",
    "        \n",
    "        \n",
    "        precision_at_k_list.append(precision_at_k(x_test_cv, y_test_cv, pred))\n",
    "        recall_at_k_list.append(recall_at_k(x_test_cv, y_test_cv, pred))\n",
    "        \n",
    "    \n",
    "    precision_at_k_mean, precision_at_k_std = np.round(np.mean(precision_at_k_list),2), np.round(np.std(precision_at_k_list),2)\n",
    "    recall_at_k_mean, recall_at_k_std = np.round(np.mean(recall_at_k_list),2), np.round(np.std(recall_at_k_list),2)\n",
    "   \n",
    "    \n",
    "    return pd.DataFrame({\"Precision_at_k\": \"{} +/- {}\".format(precision_at_k_mean, precision_at_k_std),\n",
    "                        \"Recall_at_k\": \"{} +/- {}\".format(recall_at_k_mean, recall_at_k_std)}, index=[model_name])\n"
   ]
  },
  {
   "cell_type": "markdown",
   "id": "e13f1d27",
   "metadata": {},
   "source": [
    "## 0.2 Loading Data"
   ]
  },
  {
   "cell_type": "code",
   "execution_count": 4,
   "id": "b9807608",
   "metadata": {
    "ExecuteTime": {
     "end_time": "2022-08-15T21:01:30.633066Z",
     "start_time": "2022-08-15T21:01:29.867358Z"
    }
   },
   "outputs": [],
   "source": [
    "df_raw = pd.read_csv('insurance_cross_sell.csv')"
   ]
  },
  {
   "cell_type": "markdown",
   "id": "d003b304",
   "metadata": {},
   "source": [
    "# 1.0 Descrição dos Dados"
   ]
  },
  {
   "cell_type": "code",
   "execution_count": 5,
   "id": "64145c69",
   "metadata": {
    "ExecuteTime": {
     "end_time": "2022-08-15T21:01:30.639175Z",
     "start_time": "2022-08-15T21:01:30.635668Z"
    }
   },
   "outputs": [],
   "source": [
    "df1 = df_raw"
   ]
  },
  {
   "cell_type": "markdown",
   "id": "6f2c4b4d",
   "metadata": {},
   "source": [
    "## 1.1 Drop Colums"
   ]
  },
  {
   "cell_type": "code",
   "execution_count": 6,
   "id": "659d5760",
   "metadata": {
    "ExecuteTime": {
     "end_time": "2022-08-15T21:01:30.809930Z",
     "start_time": "2022-08-15T21:01:30.641322Z"
    }
   },
   "outputs": [],
   "source": [
    "#dropando colunas duplicadas do DF\n",
    "df1 = df1.drop(columns=['id.1', 'id.2'], axis=1)"
   ]
  },
  {
   "cell_type": "markdown",
   "id": "fd5012f1",
   "metadata": {},
   "source": [
    "## 1.2 Data Dimensions"
   ]
  },
  {
   "cell_type": "code",
   "execution_count": 7,
   "id": "403e8f8f",
   "metadata": {
    "ExecuteTime": {
     "end_time": "2022-08-15T21:01:30.837775Z",
     "start_time": "2022-08-15T21:01:30.812111Z"
    }
   },
   "outputs": [
    {
     "data": {
      "text/plain": [
       "(381109, 12)"
      ]
     },
     "execution_count": 7,
     "metadata": {},
     "output_type": "execute_result"
    }
   ],
   "source": [
    "#verificando tamanho do DF\n",
    "df1.shape"
   ]
  },
  {
   "cell_type": "markdown",
   "id": "f2840f29",
   "metadata": {},
   "source": [
    "## 1.3 Data Types"
   ]
  },
  {
   "cell_type": "code",
   "execution_count": 8,
   "id": "b8841c15",
   "metadata": {
    "ExecuteTime": {
     "end_time": "2022-08-15T21:01:30.922729Z",
     "start_time": "2022-08-15T21:01:30.839231Z"
    }
   },
   "outputs": [
    {
     "data": {
      "text/plain": [
       "id                        int64\n",
       "gender                   object\n",
       "age                       int64\n",
       "region_code             float64\n",
       "policy_sales_channel    float64\n",
       "driving_license           int64\n",
       "vehicle_age              object\n",
       "vehicle_damage           object\n",
       "previously_insured        int64\n",
       "annual_premium          float64\n",
       "vintage                   int64\n",
       "response                  int64\n",
       "dtype: object"
      ]
     },
     "execution_count": 8,
     "metadata": {},
     "output_type": "execute_result"
    }
   ],
   "source": [
    "#verificando tipos de variáveis\n",
    "df1.dtypes"
   ]
  },
  {
   "cell_type": "markdown",
   "id": "4cad317a",
   "metadata": {},
   "source": [
    "## 1.4 Check NA"
   ]
  },
  {
   "cell_type": "code",
   "execution_count": 9,
   "id": "cdbe339c",
   "metadata": {
    "ExecuteTime": {
     "end_time": "2022-08-15T21:01:31.223185Z",
     "start_time": "2022-08-15T21:01:30.924740Z"
    }
   },
   "outputs": [
    {
     "data": {
      "text/plain": [
       "id                      0\n",
       "gender                  0\n",
       "age                     0\n",
       "region_code             0\n",
       "policy_sales_channel    0\n",
       "driving_license         0\n",
       "vehicle_age             0\n",
       "vehicle_damage          0\n",
       "previously_insured      0\n",
       "annual_premium          0\n",
       "vintage                 0\n",
       "response                0\n",
       "dtype: int64"
      ]
     },
     "execution_count": 9,
     "metadata": {},
     "output_type": "execute_result"
    }
   ],
   "source": [
    "#verificando possibilidade de valores NA\n",
    "df1.isna().sum()"
   ]
  },
  {
   "cell_type": "markdown",
   "id": "18ad8eed",
   "metadata": {},
   "source": [
    "## 1.5 Descriptive Statistical "
   ]
  },
  {
   "cell_type": "markdown",
   "id": "331eaee2",
   "metadata": {},
   "source": [
    "### 1.5.1 Numerical Attributes"
   ]
  },
  {
   "cell_type": "code",
   "execution_count": 10,
   "id": "64c23cbf",
   "metadata": {
    "ExecuteTime": {
     "end_time": "2022-08-15T21:01:31.277206Z",
     "start_time": "2022-08-15T21:01:31.225137Z"
    }
   },
   "outputs": [],
   "source": [
    "# Central Tendency - mean, median\n",
    "# Dispersion - std, min, max, range, skew, kurtosis\n",
    "num_attributes = df1.select_dtypes(include=['int64', 'float64'])\n",
    "cat_attributes = df1.select_dtypes(exclude=['int64', 'float64', 'datetime64[ns]'])"
   ]
  },
  {
   "cell_type": "code",
   "execution_count": 11,
   "id": "5a366932",
   "metadata": {
    "ExecuteTime": {
     "end_time": "2022-08-15T21:01:32.084483Z",
     "start_time": "2022-08-15T21:01:31.280686Z"
    }
   },
   "outputs": [],
   "source": [
    "#Central Tendency - mean, median\n",
    "ct1 = pd.DataFrame(num_attributes.apply(np.mean)).T\n",
    "ct2 = pd.DataFrame(num_attributes.apply(np.median)).T\n",
    "\n",
    "#Dispersion - std, min, max, range, skew, kurtosis\n",
    "d1 = pd.DataFrame(num_attributes.apply(np.std)).T\n",
    "d2 = pd.DataFrame(num_attributes.apply(min)).T\n",
    "d3 = pd.DataFrame(num_attributes.apply(max)).T\n",
    "d4 = pd.DataFrame(num_attributes.apply(lambda x: x.max() - x.min())).T\n",
    "d5 = pd.DataFrame(num_attributes.apply(lambda x: x.skew())).T\n",
    "d6 = pd.DataFrame(num_attributes.apply(lambda x: x.kurtosis())).T\n",
    "\n",
    "#concatenate\n",
    "\n",
    "m = pd.concat([d2, d3, d4, ct1, ct2, d1, d5, d6]).T.reset_index()\n",
    "m.columns = ['attributes', 'min', 'max', 'range', 'mean', 'median', 'std', 'skew', 'kurtosis']"
   ]
  },
  {
   "cell_type": "code",
   "execution_count": 12,
   "id": "599c6fdd",
   "metadata": {
    "ExecuteTime": {
     "end_time": "2022-08-15T21:01:32.142349Z",
     "start_time": "2022-08-15T21:01:32.087467Z"
    }
   },
   "outputs": [
    {
     "data": {
      "text/html": [
       "<div>\n",
       "<style scoped>\n",
       "    .dataframe tbody tr th:only-of-type {\n",
       "        vertical-align: middle;\n",
       "    }\n",
       "\n",
       "    .dataframe tbody tr th {\n",
       "        vertical-align: top;\n",
       "    }\n",
       "\n",
       "    .dataframe thead th {\n",
       "        text-align: right;\n",
       "    }\n",
       "</style>\n",
       "<table border=\"1\" class=\"dataframe\">\n",
       "  <thead>\n",
       "    <tr style=\"text-align: right;\">\n",
       "      <th></th>\n",
       "      <th>attributes</th>\n",
       "      <th>min</th>\n",
       "      <th>max</th>\n",
       "      <th>range</th>\n",
       "      <th>mean</th>\n",
       "      <th>median</th>\n",
       "      <th>std</th>\n",
       "      <th>skew</th>\n",
       "      <th>kurtosis</th>\n",
       "    </tr>\n",
       "  </thead>\n",
       "  <tbody>\n",
       "    <tr>\n",
       "      <th>0</th>\n",
       "      <td>id</td>\n",
       "      <td>1.00000</td>\n",
       "      <td>381109.00000</td>\n",
       "      <td>381108.00000</td>\n",
       "      <td>190555.00000</td>\n",
       "      <td>190555.00000</td>\n",
       "      <td>110016.69187</td>\n",
       "      <td>-0.00000</td>\n",
       "      <td>-1.20000</td>\n",
       "    </tr>\n",
       "    <tr>\n",
       "      <th>1</th>\n",
       "      <td>age</td>\n",
       "      <td>20.00000</td>\n",
       "      <td>85.00000</td>\n",
       "      <td>65.00000</td>\n",
       "      <td>38.82258</td>\n",
       "      <td>36.00000</td>\n",
       "      <td>15.51159</td>\n",
       "      <td>0.67254</td>\n",
       "      <td>-0.56566</td>\n",
       "    </tr>\n",
       "    <tr>\n",
       "      <th>2</th>\n",
       "      <td>region_code</td>\n",
       "      <td>0.00000</td>\n",
       "      <td>52.00000</td>\n",
       "      <td>52.00000</td>\n",
       "      <td>26.38881</td>\n",
       "      <td>28.00000</td>\n",
       "      <td>13.22987</td>\n",
       "      <td>-0.11527</td>\n",
       "      <td>-0.86786</td>\n",
       "    </tr>\n",
       "    <tr>\n",
       "      <th>3</th>\n",
       "      <td>policy_sales_channel</td>\n",
       "      <td>1.00000</td>\n",
       "      <td>163.00000</td>\n",
       "      <td>162.00000</td>\n",
       "      <td>112.03429</td>\n",
       "      <td>133.00000</td>\n",
       "      <td>54.20392</td>\n",
       "      <td>-0.90001</td>\n",
       "      <td>-0.97081</td>\n",
       "    </tr>\n",
       "    <tr>\n",
       "      <th>4</th>\n",
       "      <td>driving_license</td>\n",
       "      <td>0.00000</td>\n",
       "      <td>1.00000</td>\n",
       "      <td>1.00000</td>\n",
       "      <td>0.99787</td>\n",
       "      <td>1.00000</td>\n",
       "      <td>0.04611</td>\n",
       "      <td>-21.59518</td>\n",
       "      <td>464.35430</td>\n",
       "    </tr>\n",
       "    <tr>\n",
       "      <th>5</th>\n",
       "      <td>previously_insured</td>\n",
       "      <td>0.00000</td>\n",
       "      <td>1.00000</td>\n",
       "      <td>1.00000</td>\n",
       "      <td>0.45821</td>\n",
       "      <td>0.00000</td>\n",
       "      <td>0.49825</td>\n",
       "      <td>0.16775</td>\n",
       "      <td>-1.97187</td>\n",
       "    </tr>\n",
       "    <tr>\n",
       "      <th>6</th>\n",
       "      <td>annual_premium</td>\n",
       "      <td>2630.00000</td>\n",
       "      <td>540165.00000</td>\n",
       "      <td>537535.00000</td>\n",
       "      <td>30564.38958</td>\n",
       "      <td>31669.00000</td>\n",
       "      <td>17213.13247</td>\n",
       "      <td>1.76609</td>\n",
       "      <td>34.00457</td>\n",
       "    </tr>\n",
       "    <tr>\n",
       "      <th>7</th>\n",
       "      <td>vintage</td>\n",
       "      <td>10.00000</td>\n",
       "      <td>299.00000</td>\n",
       "      <td>289.00000</td>\n",
       "      <td>154.34740</td>\n",
       "      <td>154.00000</td>\n",
       "      <td>83.67119</td>\n",
       "      <td>0.00303</td>\n",
       "      <td>-1.20069</td>\n",
       "    </tr>\n",
       "    <tr>\n",
       "      <th>8</th>\n",
       "      <td>response</td>\n",
       "      <td>0.00000</td>\n",
       "      <td>1.00000</td>\n",
       "      <td>1.00000</td>\n",
       "      <td>0.12256</td>\n",
       "      <td>0.00000</td>\n",
       "      <td>0.32794</td>\n",
       "      <td>2.30191</td>\n",
       "      <td>3.29879</td>\n",
       "    </tr>\n",
       "  </tbody>\n",
       "</table>\n",
       "</div>"
      ],
      "text/plain": [
       "             attributes        min          max        range         mean       median          std      skew  kurtosis\n",
       "0                    id    1.00000 381109.00000 381108.00000 190555.00000 190555.00000 110016.69187  -0.00000  -1.20000\n",
       "1                   age   20.00000     85.00000     65.00000     38.82258     36.00000     15.51159   0.67254  -0.56566\n",
       "2           region_code    0.00000     52.00000     52.00000     26.38881     28.00000     13.22987  -0.11527  -0.86786\n",
       "3  policy_sales_channel    1.00000    163.00000    162.00000    112.03429    133.00000     54.20392  -0.90001  -0.97081\n",
       "4       driving_license    0.00000      1.00000      1.00000      0.99787      1.00000      0.04611 -21.59518 464.35430\n",
       "5    previously_insured    0.00000      1.00000      1.00000      0.45821      0.00000      0.49825   0.16775  -1.97187\n",
       "6        annual_premium 2630.00000 540165.00000 537535.00000  30564.38958  31669.00000  17213.13247   1.76609  34.00457\n",
       "7               vintage   10.00000    299.00000    289.00000    154.34740    154.00000     83.67119   0.00303  -1.20069\n",
       "8              response    0.00000      1.00000      1.00000      0.12256      0.00000      0.32794   2.30191   3.29879"
      ]
     },
     "execution_count": 12,
     "metadata": {},
     "output_type": "execute_result"
    }
   ],
   "source": [
    "m"
   ]
  },
  {
   "cell_type": "markdown",
   "id": "5c463a97",
   "metadata": {},
   "source": [
    "### 1.5.1 Categorical Attributes"
   ]
  },
  {
   "cell_type": "code",
   "execution_count": 13,
   "id": "f567f884",
   "metadata": {
    "ExecuteTime": {
     "end_time": "2022-08-15T21:01:32.236829Z",
     "start_time": "2022-08-15T21:01:32.143927Z"
    }
   },
   "outputs": [
    {
     "data": {
      "text/plain": [
       "gender            2\n",
       "vehicle_age       3\n",
       "vehicle_damage    2\n",
       "dtype: int64"
      ]
     },
     "execution_count": 13,
     "metadata": {},
     "output_type": "execute_result"
    }
   ],
   "source": [
    "#verificando os atributos categóricos\n",
    "cat_attributes.apply(lambda x: x.unique().shape[0])"
   ]
  },
  {
   "cell_type": "code",
   "execution_count": 14,
   "id": "a195906a",
   "metadata": {
    "ExecuteTime": {
     "end_time": "2022-08-15T21:01:32.382096Z",
     "start_time": "2022-08-15T21:01:32.238422Z"
    }
   },
   "outputs": [
    {
     "data": {
      "text/html": [
       "<div>\n",
       "<style scoped>\n",
       "    .dataframe tbody tr th:only-of-type {\n",
       "        vertical-align: middle;\n",
       "    }\n",
       "\n",
       "    .dataframe tbody tr th {\n",
       "        vertical-align: top;\n",
       "    }\n",
       "\n",
       "    .dataframe thead th {\n",
       "        text-align: right;\n",
       "    }\n",
       "</style>\n",
       "<table border=\"1\" class=\"dataframe\">\n",
       "  <thead>\n",
       "    <tr style=\"text-align: right;\">\n",
       "      <th></th>\n",
       "      <th>gender</th>\n",
       "      <th>vehicle_age</th>\n",
       "      <th>vehicle_damage</th>\n",
       "    </tr>\n",
       "  </thead>\n",
       "  <tbody>\n",
       "    <tr>\n",
       "      <th>count</th>\n",
       "      <td>381109</td>\n",
       "      <td>381109</td>\n",
       "      <td>381109</td>\n",
       "    </tr>\n",
       "    <tr>\n",
       "      <th>unique</th>\n",
       "      <td>2</td>\n",
       "      <td>3</td>\n",
       "      <td>2</td>\n",
       "    </tr>\n",
       "    <tr>\n",
       "      <th>top</th>\n",
       "      <td>Male</td>\n",
       "      <td>1-2 Year</td>\n",
       "      <td>Yes</td>\n",
       "    </tr>\n",
       "    <tr>\n",
       "      <th>freq</th>\n",
       "      <td>206089</td>\n",
       "      <td>200316</td>\n",
       "      <td>192413</td>\n",
       "    </tr>\n",
       "  </tbody>\n",
       "</table>\n",
       "</div>"
      ],
      "text/plain": [
       "        gender vehicle_age vehicle_damage\n",
       "count   381109      381109         381109\n",
       "unique       2           3              2\n",
       "top       Male    1-2 Year            Yes\n",
       "freq    206089      200316         192413"
      ]
     },
     "execution_count": 14,
     "metadata": {},
     "output_type": "execute_result"
    }
   ],
   "source": [
    "cat_attributes.describe()"
   ]
  },
  {
   "cell_type": "markdown",
   "id": "74597deb",
   "metadata": {},
   "source": [
    "# 2.0  Feature Engineering"
   ]
  },
  {
   "cell_type": "code",
   "execution_count": 15,
   "id": "dbeb462a",
   "metadata": {
    "ExecuteTime": {
     "end_time": "2022-08-15T21:01:32.386106Z",
     "start_time": "2022-08-15T21:01:32.383704Z"
    }
   },
   "outputs": [],
   "source": [
    "df2 = df1"
   ]
  },
  {
   "cell_type": "code",
   "execution_count": 16,
   "id": "d705f6e9",
   "metadata": {
    "ExecuteTime": {
     "end_time": "2022-08-15T21:01:32.630845Z",
     "start_time": "2022-08-15T21:01:32.387635Z"
    }
   },
   "outputs": [],
   "source": [
    "# vehicle age\n",
    "df2['vehicle_age'] = df2['vehicle_age'].apply(lambda x: 'over_2_years' if x == '> 2 Years' else 'between_1_2_year' if x == '1-2 Year' else 'bellow_1_year')\n",
    "\n",
    "# vehicle damage\n",
    "df2['vehicle_damage'] = df2['vehicle_damage'].apply(lambda x: 1 if x == 'Yes' else 0)"
   ]
  },
  {
   "cell_type": "markdown",
   "id": "f5fa2d0b",
   "metadata": {},
   "source": [
    "# 3.0 Data Filtering"
   ]
  },
  {
   "cell_type": "code",
   "execution_count": 17,
   "id": "c978e930",
   "metadata": {
    "ExecuteTime": {
     "end_time": "2022-08-15T21:01:32.635451Z",
     "start_time": "2022-08-15T21:01:32.632409Z"
    }
   },
   "outputs": [],
   "source": [
    "df3 = df2"
   ]
  },
  {
   "cell_type": "markdown",
   "id": "7e7153c9",
   "metadata": {},
   "source": [
    "# 4.0 EDA"
   ]
  },
  {
   "cell_type": "code",
   "execution_count": 18,
   "id": "4e4451d4",
   "metadata": {
    "ExecuteTime": {
     "end_time": "2022-08-15T21:01:32.707786Z",
     "start_time": "2022-08-15T21:01:32.637293Z"
    }
   },
   "outputs": [],
   "source": [
    "df4 = df3"
   ]
  },
  {
   "cell_type": "markdown",
   "id": "fadc77e9",
   "metadata": {},
   "source": [
    "**Hipothesis List:**\n",
    "\n",
    "1 - Homens são mais propensos a comprar seguro do carro do que as mulheres\n",
    "\n",
    "2 - Pessoas acima de 40 anos são mais propensos a comprar o seguro do carro\n",
    "\n",
    "3 - Pessoas que pagam mais de 50k por ano em seguro saúde são mais propensos a comprar também o seguro do carro\n",
    "\n",
    "4 - Homens de até 30 anos não tendem a se interessar pelo seguro do carro\n",
    "\n",
    "5 - Donos de carros cujo a idade do veículo é menor que  1 ano tendem a comprar o seguro de carro\n",
    "\n",
    "6 - Clientes há mais de 100 dias do seguro saúde tendem a ter interesse no seguro do carro\n",
    "\n",
    "7 - Homens com mais de 50 anos que nunca tiveram seguro de carro não tendem a ter interesse em adquirir um\n",
    "\n",
    "8 - Clientes que pagam até 30 mil de seguro saúde por ano não tendem a ter interesse no seguro do carro"
   ]
  },
  {
   "cell_type": "markdown",
   "id": "04c2f52f",
   "metadata": {},
   "source": [
    "## 4.1 Univariate Analysis"
   ]
  },
  {
   "cell_type": "code",
   "execution_count": 19,
   "id": "03049417",
   "metadata": {
    "ExecuteTime": {
     "end_time": "2022-08-15T21:01:34.875774Z",
     "start_time": "2022-08-15T21:01:32.709497Z"
    }
   },
   "outputs": [
    {
     "data": {
      "image/png": "[encoded data removed]",
      "text/plain": [
       "<Figure size 1080x720 with 12 Axes>"
      ]
     },
     "metadata": {},
     "output_type": "display_data"
    }
   ],
   "source": [
    "num_attributes = df4.select_dtypes(include=['int64','float64'])\n",
    "num_attributes.hist(figsize=(15,10), bins=25);"
   ]
  },
  {
   "cell_type": "code",
   "execution_count": 20,
   "id": "27629228",
   "metadata": {
    "ExecuteTime": {
     "end_time": "2022-08-15T21:01:35.110593Z",
     "start_time": "2022-08-15T21:01:34.877563Z"
    },
    "scrolled": false
   },
   "outputs": [
    {
     "data": {
      "text/plain": [
       "<AxesSubplot:xlabel='response', ylabel='age'>"
      ]
     },
     "execution_count": 20,
     "metadata": {},
     "output_type": "execute_result"
    },
    {
     "data": {
      "image/png": "[encoded data removed]",
      "text/plain": [
       "<Figure size 1296x648 with 1 Axes>"
      ]
     },
     "metadata": {},
     "output_type": "display_data"
    }
   ],
   "source": [
    "# age\n",
    "sns.boxplot(x='response', y='age', data=df4)"
   ]
  },
  {
   "cell_type": "code",
   "execution_count": 21,
   "id": "135e0cff",
   "metadata": {
    "ExecuteTime": {
     "end_time": "2022-08-15T21:01:40.562254Z",
     "start_time": "2022-08-15T21:01:35.112103Z"
    }
   },
   "outputs": [
    {
     "data": {
      "text/plain": [
       "<AxesSubplot:xlabel='driving_license', ylabel='response'>"
      ]
     },
     "execution_count": 21,
     "metadata": {},
     "output_type": "execute_result"
    },
    {
     "data": {
      "image/png": "[encoded data removed]",
      "text/plain": [
       "<Figure size 1296x648 with 1 Axes>"
      ]
     },
     "metadata": {},
     "output_type": "display_data"
    }
   ],
   "source": [
    "# driving licence\n",
    "sns.barplot(x='driving_license', y='response', data=df4)"
   ]
  },
  {
   "cell_type": "code",
   "execution_count": 22,
   "id": "182a046d",
   "metadata": {
    "ExecuteTime": {
     "end_time": "2022-08-15T21:01:42.063532Z",
     "start_time": "2022-08-15T21:01:40.564112Z"
    }
   },
   "outputs": [
    {
     "data": {
      "text/plain": [
       "<AxesSubplot:xlabel='response', ylabel='annual_premium'>"
      ]
     },
     "execution_count": 22,
     "metadata": {},
     "output_type": "execute_result"
    },
    {
     "data": {
      "image/png": "[encoded data removed]",
      "text/plain": [
       "<Figure size 1296x648 with 1 Axes>"
      ]
     },
     "metadata": {},
     "output_type": "display_data"
    }
   ],
   "source": [
    "#annual_premium\n",
    "aux0 = df4[df4['annual_premium'] <= 80000]\n",
    "sns.boxplot(x='response', y='annual_premium', data=aux0)\n"
   ]
  },
  {
   "cell_type": "code",
   "execution_count": 23,
   "id": "3b0c6bc0",
   "metadata": {
    "ExecuteTime": {
     "end_time": "2022-08-15T21:01:42.425328Z",
     "start_time": "2022-08-15T21:01:42.065179Z"
    }
   },
   "outputs": [
    {
     "data": {
      "text/plain": [
       "<AxesSubplot:xlabel='region_code', ylabel='id'>"
      ]
     },
     "execution_count": 23,
     "metadata": {},
     "output_type": "execute_result"
    },
    {
     "data": {
      "image/png": "[encoded data removed]",
      "text/plain": [
       "<Figure size 1296x648 with 1 Axes>"
      ]
     },
     "metadata": {},
     "output_type": "display_data"
    }
   ],
   "source": [
    "# region_code\n",
    "aux = df4[['id', 'region_code', 'response']].groupby(['region_code', 'response']).count().reset_index()\n",
    "sns.scatterplot(x='region_code', y='id', hue='response', data=aux)"
   ]
  },
  {
   "cell_type": "code",
   "execution_count": 24,
   "id": "4a58f38b",
   "metadata": {
    "ExecuteTime": {
     "end_time": "2022-08-15T21:01:42.470102Z",
     "start_time": "2022-08-15T21:01:42.427020Z"
    }
   },
   "outputs": [
    {
     "data": {
      "text/html": [
       "<div>\n",
       "<style scoped>\n",
       "    .dataframe tbody tr th:only-of-type {\n",
       "        vertical-align: middle;\n",
       "    }\n",
       "\n",
       "    .dataframe tbody tr th {\n",
       "        vertical-align: top;\n",
       "    }\n",
       "\n",
       "    .dataframe thead th {\n",
       "        text-align: right;\n",
       "    }\n",
       "</style>\n",
       "<table border=\"1\" class=\"dataframe\">\n",
       "  <thead>\n",
       "    <tr style=\"text-align: right;\">\n",
       "      <th>response</th>\n",
       "      <th>0</th>\n",
       "      <th>1</th>\n",
       "    </tr>\n",
       "    <tr>\n",
       "      <th>previously_insured</th>\n",
       "      <th></th>\n",
       "      <th></th>\n",
       "    </tr>\n",
       "  </thead>\n",
       "  <tbody>\n",
       "    <tr>\n",
       "      <th>0</th>\n",
       "      <td>0.77455</td>\n",
       "      <td>0.22545</td>\n",
       "    </tr>\n",
       "    <tr>\n",
       "      <th>1</th>\n",
       "      <td>0.99910</td>\n",
       "      <td>0.00090</td>\n",
       "    </tr>\n",
       "  </tbody>\n",
       "</table>\n",
       "</div>"
      ],
      "text/plain": [
       "response                 0       1\n",
       "previously_insured                \n",
       "0                  0.77455 0.22545\n",
       "1                  0.99910 0.00090"
      ]
     },
     "execution_count": 24,
     "metadata": {},
     "output_type": "execute_result"
    }
   ],
   "source": [
    "#previously_insured\n",
    "pd.crosstab(df4['previously_insured'], df4['response']).apply(lambda x: x / x.sum(), axis=1)"
   ]
  },
  {
   "cell_type": "code",
   "execution_count": 25,
   "id": "818bfa25",
   "metadata": {
    "ExecuteTime": {
     "end_time": "2022-08-15T21:01:42.571537Z",
     "start_time": "2022-08-15T21:01:42.473705Z"
    }
   },
   "outputs": [
    {
     "data": {
      "text/html": [
       "<div>\n",
       "<style scoped>\n",
       "    .dataframe tbody tr th:only-of-type {\n",
       "        vertical-align: middle;\n",
       "    }\n",
       "\n",
       "    .dataframe tbody tr th {\n",
       "        vertical-align: top;\n",
       "    }\n",
       "\n",
       "    .dataframe thead th {\n",
       "        text-align: right;\n",
       "    }\n",
       "</style>\n",
       "<table border=\"1\" class=\"dataframe\">\n",
       "  <thead>\n",
       "    <tr style=\"text-align: right;\">\n",
       "      <th></th>\n",
       "      <th>vehicle_age</th>\n",
       "      <th>response</th>\n",
       "      <th>0</th>\n",
       "    </tr>\n",
       "  </thead>\n",
       "  <tbody>\n",
       "    <tr>\n",
       "      <th>0</th>\n",
       "      <td>between_1_2_year</td>\n",
       "      <td>0</td>\n",
       "      <td>0.43429</td>\n",
       "    </tr>\n",
       "    <tr>\n",
       "      <th>1</th>\n",
       "      <td>bellow_1_year</td>\n",
       "      <td>0</td>\n",
       "      <td>0.41349</td>\n",
       "    </tr>\n",
       "    <tr>\n",
       "      <th>2</th>\n",
       "      <td>between_1_2_year</td>\n",
       "      <td>1</td>\n",
       "      <td>0.09133</td>\n",
       "    </tr>\n",
       "    <tr>\n",
       "      <th>3</th>\n",
       "      <td>over_2_years</td>\n",
       "      <td>0</td>\n",
       "      <td>0.02966</td>\n",
       "    </tr>\n",
       "    <tr>\n",
       "      <th>4</th>\n",
       "      <td>bellow_1_year</td>\n",
       "      <td>1</td>\n",
       "      <td>0.01890</td>\n",
       "    </tr>\n",
       "    <tr>\n",
       "      <th>5</th>\n",
       "      <td>over_2_years</td>\n",
       "      <td>1</td>\n",
       "      <td>0.01234</td>\n",
       "    </tr>\n",
       "  </tbody>\n",
       "</table>\n",
       "</div>"
      ],
      "text/plain": [
       "        vehicle_age  response       0\n",
       "0  between_1_2_year         0 0.43429\n",
       "1     bellow_1_year         0 0.41349\n",
       "2  between_1_2_year         1 0.09133\n",
       "3      over_2_years         0 0.02966\n",
       "4     bellow_1_year         1 0.01890\n",
       "5      over_2_years         1 0.01234"
      ]
     },
     "execution_count": 25,
     "metadata": {},
     "output_type": "execute_result"
    }
   ],
   "source": [
    "#vehicle age\n",
    "df4[['vehicle_age', 'response']].value_counts(normalize=True).reset_index()"
   ]
  },
  {
   "cell_type": "code",
   "execution_count": 26,
   "id": "f8a57878",
   "metadata": {
    "ExecuteTime": {
     "end_time": "2022-08-15T21:01:42.781457Z",
     "start_time": "2022-08-15T21:01:42.573621Z"
    }
   },
   "outputs": [
    {
     "data": {
      "text/plain": [
       "<AxesSubplot:xlabel='response', ylabel='vintage'>"
      ]
     },
     "execution_count": 26,
     "metadata": {},
     "output_type": "execute_result"
    },
    {
     "data": {
      "image/png": "[encoded data removed]",
      "text/plain": [
       "<Figure size 1296x648 with 1 Axes>"
      ]
     },
     "metadata": {},
     "output_type": "display_data"
    }
   ],
   "source": [
    "#vintage\n",
    "sns.boxplot(x='response', y='vintage', data=df4)"
   ]
  },
  {
   "cell_type": "markdown",
   "id": "2813b694",
   "metadata": {},
   "source": [
    "## 4.2 Bivariate Analysis"
   ]
  },
  {
   "cell_type": "markdown",
   "id": "17b21c4b",
   "metadata": {},
   "source": [
    "### 1 - Homens são mais propensos a comprar seguro do carro do que as mulheres\n",
    "\n",
    "***VERDADEIRO*** - conforme gráfico abaixo, homens tendem a se interessar mais pelo seguro do automóvel do que as mulheres"
   ]
  },
  {
   "cell_type": "code",
   "execution_count": 27,
   "id": "3af6809b",
   "metadata": {
    "ExecuteTime": {
     "end_time": "2022-08-15T21:01:42.935503Z",
     "start_time": "2022-08-15T21:01:42.783009Z"
    },
    "scrolled": true
   },
   "outputs": [
    {
     "data": {
      "text/plain": [
       "<AxesSubplot:xlabel='gender', ylabel='response'>"
      ]
     },
     "execution_count": 27,
     "metadata": {},
     "output_type": "execute_result"
    },
    {
     "data": {
      "image/png": "[encoded data removed]",
      "text/plain": [
       "<Figure size 1296x648 with 1 Axes>"
      ]
     },
     "metadata": {},
     "output_type": "display_data"
    }
   ],
   "source": [
    "aux1 = df4[df4['response'] == 1]\n",
    "aux = aux1[['gender', 'response']].groupby('gender').sum().reset_index()\n",
    "sns.barplot(x='gender', y='response', data=aux)"
   ]
  },
  {
   "cell_type": "markdown",
   "id": "26d38395",
   "metadata": {},
   "source": [
    "### 2 - Pessoas acima de 40 anos são mais propensos a comprar o seguro do carro\n",
    "***VERDADEIRO*** - Conforme gráfico abaixo, pessoas acima de 40 anos são mais propensos a se interessar pelo seguro do carro que menores de 40 anos"
   ]
  },
  {
   "cell_type": "code",
   "execution_count": 28,
   "id": "61b44644",
   "metadata": {
    "ExecuteTime": {
     "end_time": "2022-08-15T21:01:43.378251Z",
     "start_time": "2022-08-15T21:01:42.937017Z"
    }
   },
   "outputs": [
    {
     "data": {
      "text/plain": [
       "<AxesSubplot:xlabel='age', ylabel='response'>"
      ]
     },
     "execution_count": 28,
     "metadata": {},
     "output_type": "execute_result"
    },
    {
     "data": {
      "image/png": "[encoded data removed]",
      "text/plain": [
       "<Figure size 1296x648 with 1 Axes>"
      ]
     },
     "metadata": {},
     "output_type": "display_data"
    }
   ],
   "source": [
    "aux1 = df4[df4['response'] == 1]\n",
    "aux1['age'] = aux1['age'].apply(lambda x: '> 40' if x >= 40 else '< 40')\n",
    "aux2 = aux1[['age', 'response']].groupby('age').sum().reset_index()\n",
    "sns.barplot(x='age', y='response', data=aux2)"
   ]
  },
  {
   "cell_type": "markdown",
   "id": "eed27287",
   "metadata": {},
   "source": [
    "### 3 - Pessoas que pagam mais de 50k por ano em seguro saúde são mais propensos a comprar também o seguro do carro\n",
    "***FALSO*** - De acordo com os dados, não temos evidências que pessoas que gastam mais de 50k por ano em seguro saúde tem mais chances de adquirir o seguro do automóvel em relação a quem gasta menos que 50k por ano"
   ]
  },
  {
   "cell_type": "code",
   "execution_count": 29,
   "id": "52bad69b",
   "metadata": {
    "ExecuteTime": {
     "end_time": "2022-08-15T21:01:43.526951Z",
     "start_time": "2022-08-15T21:01:43.382587Z"
    },
    "scrolled": true
   },
   "outputs": [
    {
     "data": {
      "text/plain": [
       "<AxesSubplot:xlabel='annual_premium', ylabel='response'>"
      ]
     },
     "execution_count": 29,
     "metadata": {},
     "output_type": "execute_result"
    },
    {
     "data": {
      "image/png": "[encoded data removed]",
      "text/plain": [
       "<Figure size 1296x648 with 1 Axes>"
      ]
     },
     "metadata": {},
     "output_type": "display_data"
    }
   ],
   "source": [
    "aux = df4[['annual_premium', 'response']][df4['response'] == 1].copy()\n",
    "aux['annual_premium'] =  aux['annual_premium'].apply(lambda x: '> 50k' if x >= 50000 else '< 50k')\n",
    "aux1 = aux[['annual_premium', 'response']].groupby('annual_premium').sum().reset_index()\n",
    "aux1\n",
    "sns.barplot(x='annual_premium', y='response', data=aux1)"
   ]
  },
  {
   "cell_type": "markdown",
   "id": "5a66fb5d",
   "metadata": {},
   "source": [
    "### 4 - Homens de até 30 anos não tendem a se interessar pelo seguro do carro em média\n",
    "***VERDADEIRO*** - Homens de até 30 anos tem um interesse significativamente menor em adquirir o seguro do carro em comparação a maiores de 30 anos"
   ]
  },
  {
   "cell_type": "code",
   "execution_count": 30,
   "id": "a48d8d88",
   "metadata": {
    "ExecuteTime": {
     "end_time": "2022-08-15T21:01:43.602897Z",
     "start_time": "2022-08-15T21:01:43.533351Z"
    }
   },
   "outputs": [
    {
     "data": {
      "text/html": [
       "<div>\n",
       "<style scoped>\n",
       "    .dataframe tbody tr th:only-of-type {\n",
       "        vertical-align: middle;\n",
       "    }\n",
       "\n",
       "    .dataframe tbody tr th {\n",
       "        vertical-align: top;\n",
       "    }\n",
       "\n",
       "    .dataframe thead th {\n",
       "        text-align: right;\n",
       "    }\n",
       "</style>\n",
       "<table border=\"1\" class=\"dataframe\">\n",
       "  <thead>\n",
       "    <tr style=\"text-align: right;\">\n",
       "      <th></th>\n",
       "      <th>age</th>\n",
       "      <th>response</th>\n",
       "    </tr>\n",
       "  </thead>\n",
       "  <tbody>\n",
       "    <tr>\n",
       "      <th>0</th>\n",
       "      <td>&lt;= 30</td>\n",
       "      <td>3942</td>\n",
       "    </tr>\n",
       "    <tr>\n",
       "      <th>1</th>\n",
       "      <td>&gt; 30</td>\n",
       "      <td>24583</td>\n",
       "    </tr>\n",
       "  </tbody>\n",
       "</table>\n",
       "</div>"
      ],
      "text/plain": [
       "     age  response\n",
       "0  <= 30      3942\n",
       "1   > 30     24583"
      ]
     },
     "execution_count": 30,
     "metadata": {},
     "output_type": "execute_result"
    }
   ],
   "source": [
    "aux = df4[['age','gender', 'response']][df4['gender'] == 'Male' ][df4['response'] == 1]\n",
    "aux['age'] = aux['age'].apply(lambda x: '<= 30' if x <= 30 else '> 30')\n",
    "aux1 = aux[['age', 'response']].groupby('age').sum().reset_index()\n",
    "aux1"
   ]
  },
  {
   "cell_type": "code",
   "execution_count": 31,
   "id": "51fca0c0",
   "metadata": {
    "ExecuteTime": {
     "end_time": "2022-08-15T21:01:43.848323Z",
     "start_time": "2022-08-15T21:01:43.604417Z"
    }
   },
   "outputs": [
    {
     "data": {
      "text/plain": [
       "<AxesSubplot:xlabel='age', ylabel='response'>"
      ]
     },
     "execution_count": 31,
     "metadata": {},
     "output_type": "execute_result"
    },
    {
     "data": {
      "image/png": "[encoded data removed]",
      "text/plain": [
       "<Figure size 1296x648 with 1 Axes>"
      ]
     },
     "metadata": {},
     "output_type": "display_data"
    }
   ],
   "source": [
    "sns.barplot(x='age', y='response', data=aux1)"
   ]
  },
  {
   "cell_type": "markdown",
   "id": "9ba3d185",
   "metadata": {},
   "source": [
    "### 5 - Donos de carros cujo a idade do veículo é menor que  1 ano tendem a comprar o seguro de carro\n",
    "***FALSO*** - Donos de carros com idade entre 1 e 2 anos tendem a ter mais interesse do que donos de automóveis com idade inferior a 1 ano"
   ]
  },
  {
   "cell_type": "code",
   "execution_count": 32,
   "id": "e717c1d7",
   "metadata": {
    "ExecuteTime": {
     "end_time": "2022-08-15T21:01:43.871048Z",
     "start_time": "2022-08-15T21:01:43.851406Z"
    }
   },
   "outputs": [
    {
     "data": {
      "text/html": [
       "<div>\n",
       "<style scoped>\n",
       "    .dataframe tbody tr th:only-of-type {\n",
       "        vertical-align: middle;\n",
       "    }\n",
       "\n",
       "    .dataframe tbody tr th {\n",
       "        vertical-align: top;\n",
       "    }\n",
       "\n",
       "    .dataframe thead th {\n",
       "        text-align: right;\n",
       "    }\n",
       "</style>\n",
       "<table border=\"1\" class=\"dataframe\">\n",
       "  <thead>\n",
       "    <tr style=\"text-align: right;\">\n",
       "      <th></th>\n",
       "      <th>vehicle_age</th>\n",
       "      <th>response</th>\n",
       "    </tr>\n",
       "  </thead>\n",
       "  <tbody>\n",
       "    <tr>\n",
       "      <th>0</th>\n",
       "      <td>bellow_1_year</td>\n",
       "      <td>7202</td>\n",
       "    </tr>\n",
       "    <tr>\n",
       "      <th>1</th>\n",
       "      <td>between_1_2_year</td>\n",
       "      <td>34806</td>\n",
       "    </tr>\n",
       "    <tr>\n",
       "      <th>2</th>\n",
       "      <td>over_2_years</td>\n",
       "      <td>4702</td>\n",
       "    </tr>\n",
       "  </tbody>\n",
       "</table>\n",
       "</div>"
      ],
      "text/plain": [
       "        vehicle_age  response\n",
       "0     bellow_1_year      7202\n",
       "1  between_1_2_year     34806\n",
       "2      over_2_years      4702"
      ]
     },
     "execution_count": 32,
     "metadata": {},
     "output_type": "execute_result"
    }
   ],
   "source": [
    "aux = df4[['vehicle_age','response']][df4['response'] == 1]\n",
    "aux1 = aux.groupby('vehicle_age').sum().reset_index()\n",
    "aux1"
   ]
  },
  {
   "cell_type": "code",
   "execution_count": 33,
   "id": "bf76e5fc",
   "metadata": {
    "ExecuteTime": {
     "end_time": "2022-08-15T21:01:44.084185Z",
     "start_time": "2022-08-15T21:01:43.872556Z"
    }
   },
   "outputs": [
    {
     "data": {
      "text/plain": [
       "<AxesSubplot:xlabel='vehicle_age', ylabel='response'>"
      ]
     },
     "execution_count": 33,
     "metadata": {},
     "output_type": "execute_result"
    },
    {
     "data": {
      "image/png": "[encoded data removed]",
      "text/plain": [
       "<Figure size 1296x648 with 1 Axes>"
      ]
     },
     "metadata": {},
     "output_type": "display_data"
    }
   ],
   "source": [
    "sns.barplot(x='vehicle_age', y='response', data=aux1)"
   ]
  },
  {
   "cell_type": "markdown",
   "id": "2881cffb",
   "metadata": {},
   "source": [
    "### 6 - Clientes há mais de 100 dias do seguro saúde tendem a ter interesse no seguro do carro\n",
    "**VERDADEIRO** - Clientes que possuem seguro saúde há mais de 100 dias possuem maior interesse em adquirir o seguro do automóvel"
   ]
  },
  {
   "cell_type": "code",
   "execution_count": 34,
   "id": "1acfccd2",
   "metadata": {
    "ExecuteTime": {
     "end_time": "2022-08-15T21:01:44.266003Z",
     "start_time": "2022-08-15T21:01:44.085945Z"
    }
   },
   "outputs": [
    {
     "data": {
      "text/plain": [
       "<AxesSubplot:xlabel='vintage', ylabel='response'>"
      ]
     },
     "execution_count": 34,
     "metadata": {},
     "output_type": "execute_result"
    },
    {
     "data": {
      "image/png": "[encoded data removed]",
      "text/plain": [
       "<Figure size 1296x648 with 1 Axes>"
      ]
     },
     "metadata": {},
     "output_type": "display_data"
    }
   ],
   "source": [
    "aux = df4[df4['response'] == 1].copy()\n",
    "aux['vintage'] = df4['vintage'].apply(lambda x: '>= 100 days' if x >= 100 else '< 100 days') \n",
    "aux1 = aux[['vintage', 'response']].groupby('vintage').sum().reset_index()\n",
    "sns.barplot(x='vintage', y='response', data=aux1)"
   ]
  },
  {
   "cell_type": "markdown",
   "id": "cbe42d57",
   "metadata": {},
   "source": [
    "### 7 - Homens com mais de 50 anos que nunca tiveram seguro de carro não tendem a ter interesse\n",
    "**VERDADEIRO** - Conforme vemos na tabela abaixo, clientes com mais de 50 anos e que nunca tiveram um seguro de carro, não tendem a ter interesse em adquirir o seguro após essa idade"
   ]
  },
  {
   "cell_type": "code",
   "execution_count": 35,
   "id": "c1a5066f",
   "metadata": {
    "ExecuteTime": {
     "end_time": "2022-08-15T21:01:44.381237Z",
     "start_time": "2022-08-15T21:01:44.267608Z"
    }
   },
   "outputs": [
    {
     "data": {
      "text/html": [
       "<div>\n",
       "<style scoped>\n",
       "    .dataframe tbody tr th:only-of-type {\n",
       "        vertical-align: middle;\n",
       "    }\n",
       "\n",
       "    .dataframe tbody tr th {\n",
       "        vertical-align: top;\n",
       "    }\n",
       "\n",
       "    .dataframe thead th {\n",
       "        text-align: right;\n",
       "    }\n",
       "</style>\n",
       "<table border=\"1\" class=\"dataframe\">\n",
       "  <thead>\n",
       "    <tr style=\"text-align: right;\">\n",
       "      <th></th>\n",
       "      <th>age</th>\n",
       "      <th>previously_insured</th>\n",
       "      <th>response</th>\n",
       "    </tr>\n",
       "  </thead>\n",
       "  <tbody>\n",
       "    <tr>\n",
       "      <th>0</th>\n",
       "      <td>&lt;_50_years</td>\n",
       "      <td>0</td>\n",
       "      <td>142886</td>\n",
       "    </tr>\n",
       "    <tr>\n",
       "      <th>1</th>\n",
       "      <td>&lt;_50_years</td>\n",
       "      <td>1</td>\n",
       "      <td>143416</td>\n",
       "    </tr>\n",
       "    <tr>\n",
       "      <th>2</th>\n",
       "      <td>&gt;=_50_years</td>\n",
       "      <td>0</td>\n",
       "      <td>63595</td>\n",
       "    </tr>\n",
       "    <tr>\n",
       "      <th>3</th>\n",
       "      <td>&gt;=_50_years</td>\n",
       "      <td>1</td>\n",
       "      <td>31212</td>\n",
       "    </tr>\n",
       "  </tbody>\n",
       "</table>\n",
       "</div>"
      ],
      "text/plain": [
       "           age  previously_insured  response\n",
       "0   <_50_years                   0    142886\n",
       "1   <_50_years                   1    143416\n",
       "2  >=_50_years                   0     63595\n",
       "3  >=_50_years                   1     31212"
      ]
     },
     "execution_count": 35,
     "metadata": {},
     "output_type": "execute_result"
    }
   ],
   "source": [
    "aux = df4.copy()\n",
    "aux['age'] = aux['age'].apply(lambda x: '>=_50_years' if x >= 50 else '<_50_years')\n",
    "aux1 = aux[['age', 'response', 'previously_insured']].groupby(['age', 'previously_insured']).count().reset_index()\n",
    "aux1"
   ]
  },
  {
   "cell_type": "markdown",
   "id": "ca2d6510",
   "metadata": {},
   "source": [
    "### 8 - Clientes que pagam até 30 mil de seguro saúde por ano não tendem a ter interesse no seguro do carro\n",
    "**FALSO** Como percebemos no gráfico abaixo, o valor que se paga no seguro saúde não determina se a pessoa terá interesse ou não em adquirir o seguro do carro"
   ]
  },
  {
   "cell_type": "code",
   "execution_count": 36,
   "id": "cd7e5844",
   "metadata": {
    "ExecuteTime": {
     "end_time": "2022-08-15T21:01:44.520564Z",
     "start_time": "2022-08-15T21:01:44.382585Z"
    }
   },
   "outputs": [
    {
     "data": {
      "text/plain": [
       "<AxesSubplot:xlabel='annual_premium', ylabel='response'>"
      ]
     },
     "execution_count": 36,
     "metadata": {},
     "output_type": "execute_result"
    },
    {
     "data": {
      "image/png": "[encoded data removed]",
      "text/plain": [
       "<Figure size 1296x648 with 1 Axes>"
      ]
     },
     "metadata": {},
     "output_type": "display_data"
    }
   ],
   "source": [
    "aux = df4[['annual_premium', 'response']][df4['response'] == 1].copy()\n",
    "aux['annual_premium'] =  aux['annual_premium'].apply(lambda x: 'until_30k' if x <= 30000 else 'more_than_30k')\n",
    "aux1 = aux[['annual_premium', 'response']].groupby('annual_premium').sum().reset_index()\n",
    "aux1\n",
    "sns.barplot(x='annual_premium', y='response', data=aux1)"
   ]
  },
  {
   "cell_type": "markdown",
   "id": "1dc4498d",
   "metadata": {},
   "source": [
    "## 4.3 Analise Multivariada\n"
   ]
  },
  {
   "cell_type": "markdown",
   "id": "4b1b8c53",
   "metadata": {},
   "source": [
    "### 4.3.1 Numerical Attributes "
   ]
  },
  {
   "cell_type": "code",
   "execution_count": 37,
   "id": "751cf97c",
   "metadata": {
    "ExecuteTime": {
     "end_time": "2022-08-15T21:01:45.272269Z",
     "start_time": "2022-08-15T21:01:44.522121Z"
    }
   },
   "outputs": [
    {
     "data": {
      "text/plain": [
       "<AxesSubplot:>"
      ]
     },
     "execution_count": 37,
     "metadata": {},
     "output_type": "execute_result"
    },
    {
     "data": {
      "image/png": "[encoded data removed]",
      "text/plain": [
       "<Figure size 1296x648 with 2 Axes>"
      ]
     },
     "metadata": {},
     "output_type": "display_data"
    }
   ],
   "source": [
    "correlation = num_attributes.corr(method='pearson')\n",
    "sns.heatmap(correlation, annot=True)"
   ]
  },
  {
   "cell_type": "markdown",
   "id": "5e8ce246",
   "metadata": {},
   "source": [
    "### 4.3.1 Categorical Attributes\n"
   ]
  },
  {
   "cell_type": "code",
   "execution_count": 38,
   "id": "9ae4295c",
   "metadata": {
    "ExecuteTime": {
     "end_time": "2022-08-15T21:01:45.278971Z",
     "start_time": "2022-08-15T21:01:45.274834Z"
    }
   },
   "outputs": [],
   "source": [
    "a = df4.select_dtypes(include='object')"
   ]
  },
  {
   "cell_type": "code",
   "execution_count": 39,
   "id": "44132234",
   "metadata": {
    "ExecuteTime": {
     "end_time": "2022-08-15T21:01:45.339502Z",
     "start_time": "2022-08-15T21:01:45.281224Z"
    }
   },
   "outputs": [
    {
     "data": {
      "text/html": [
       "<div>\n",
       "<style scoped>\n",
       "    .dataframe tbody tr th:only-of-type {\n",
       "        vertical-align: middle;\n",
       "    }\n",
       "\n",
       "    .dataframe tbody tr th {\n",
       "        vertical-align: top;\n",
       "    }\n",
       "\n",
       "    .dataframe thead th {\n",
       "        text-align: right;\n",
       "    }\n",
       "</style>\n",
       "<table border=\"1\" class=\"dataframe\">\n",
       "  <thead>\n",
       "    <tr style=\"text-align: right;\">\n",
       "      <th></th>\n",
       "      <th>gender</th>\n",
       "      <th>vehicle_age</th>\n",
       "    </tr>\n",
       "  </thead>\n",
       "  <tbody>\n",
       "    <tr>\n",
       "      <th>0</th>\n",
       "      <td>Male</td>\n",
       "      <td>bellow_1_year</td>\n",
       "    </tr>\n",
       "    <tr>\n",
       "      <th>1</th>\n",
       "      <td>Female</td>\n",
       "      <td>between_1_2_year</td>\n",
       "    </tr>\n",
       "    <tr>\n",
       "      <th>2</th>\n",
       "      <td>Female</td>\n",
       "      <td>bellow_1_year</td>\n",
       "    </tr>\n",
       "    <tr>\n",
       "      <th>3</th>\n",
       "      <td>Female</td>\n",
       "      <td>bellow_1_year</td>\n",
       "    </tr>\n",
       "    <tr>\n",
       "      <th>4</th>\n",
       "      <td>Male</td>\n",
       "      <td>between_1_2_year</td>\n",
       "    </tr>\n",
       "  </tbody>\n",
       "</table>\n",
       "</div>"
      ],
      "text/plain": [
       "   gender       vehicle_age\n",
       "0    Male     bellow_1_year\n",
       "1  Female  between_1_2_year\n",
       "2  Female     bellow_1_year\n",
       "3  Female     bellow_1_year\n",
       "4    Male  between_1_2_year"
      ]
     },
     "execution_count": 39,
     "metadata": {},
     "output_type": "execute_result"
    }
   ],
   "source": [
    "a.head()"
   ]
  },
  {
   "cell_type": "code",
   "execution_count": 40,
   "id": "f32e0908",
   "metadata": {
    "ExecuteTime": {
     "end_time": "2022-08-15T21:01:45.663225Z",
     "start_time": "2022-08-15T21:01:45.341376Z"
    }
   },
   "outputs": [],
   "source": [
    "#utlizando método de cramer para verificar a correlação entre variáveis categóricas\n",
    "\n",
    "a1 = cramer_v(a['gender'], a['gender'])\n",
    "a2 = cramer_v(a['gender'], a['vehicle_age'])\n",
    "\n",
    "a4 = cramer_v(a['vehicle_age'], a['gender'])\n",
    "a5 = cramer_v(a['vehicle_age'], a['vehicle_age'])\n",
    "\n",
    "\n",
    "d = pd.DataFrame({'gender': [a1,a2],\n",
    "              'vehicle_age': [a4,a5]})\n",
    "\n",
    "d = d.set_index(d.columns)"
   ]
  },
  {
   "cell_type": "code",
   "execution_count": 41,
   "id": "e55c27d9",
   "metadata": {
    "ExecuteTime": {
     "end_time": "2022-08-15T21:01:45.846766Z",
     "start_time": "2022-08-15T21:01:45.665559Z"
    }
   },
   "outputs": [
    {
     "data": {
      "image/png": "[encoded data removed]",
      "text/plain": [
       "<Figure size 1296x648 with 2 Axes>"
      ]
     },
     "metadata": {},
     "output_type": "display_data"
    }
   ],
   "source": [
    "sns.heatmap(d, annot=True);\n"
   ]
  },
  {
   "cell_type": "markdown",
   "id": "a05a23e9",
   "metadata": {},
   "source": [
    "# 5.0 Data Preparation"
   ]
  },
  {
   "cell_type": "code",
   "execution_count": 42,
   "id": "f48b8ed5",
   "metadata": {
    "ExecuteTime": {
     "end_time": "2022-08-15T21:01:45.860326Z",
     "start_time": "2022-08-15T21:01:45.849930Z"
    }
   },
   "outputs": [],
   "source": [
    "df5 = df4.copy()"
   ]
  },
  {
   "cell_type": "code",
   "execution_count": 43,
   "id": "69bd676c",
   "metadata": {
    "ExecuteTime": {
     "end_time": "2022-08-15T21:01:46.011387Z",
     "start_time": "2022-08-15T21:01:45.863030Z"
    }
   },
   "outputs": [],
   "source": [
    "X = df4.drop('response', axis=1)\n",
    "y = df4['response'].copy()\n",
    "\n",
    "x_train, x_validation, y_train, y_validation = ms.train_test_split( X, y, test_size=0.20)\n",
    "\n",
    "df5 = pd.concat([x_train, y_train], axis=1)"
   ]
  },
  {
   "cell_type": "markdown",
   "id": "3a47dbe5",
   "metadata": {},
   "source": [
    "## Standardzation"
   ]
  },
  {
   "cell_type": "code",
   "execution_count": 44,
   "id": "9b1d2d48",
   "metadata": {
    "ExecuteTime": {
     "end_time": "2022-08-15T21:01:46.025804Z",
     "start_time": "2022-08-15T21:01:46.013023Z"
    }
   },
   "outputs": [],
   "source": [
    "ssc = pp.StandardScaler()\n",
    "\n",
    "# annual premium\n",
    "df5['annual_premium'] = ssc.fit_transform(df5[['annual_premium']].values)\n",
    "#pickle.dump(ssc, open('parameter/annual_premium.pkl', 'wb'))"
   ]
  },
  {
   "cell_type": "markdown",
   "id": "114d5b1a",
   "metadata": {},
   "source": [
    "## Rescaling"
   ]
  },
  {
   "cell_type": "code",
   "execution_count": 45,
   "id": "49bd3805",
   "metadata": {
    "ExecuteTime": {
     "end_time": "2022-08-15T21:01:46.152528Z",
     "start_time": "2022-08-15T21:01:46.027843Z"
    }
   },
   "outputs": [],
   "source": [
    "mms_age = pp.MinMaxScaler()\n",
    "mms_vintage = pp.MinMaxScaler()\n",
    "\n",
    "# age\n",
    "df5['age'] = mms_age.fit_transform(df5[['age']].values)\n",
    "#pickle.dump(mms_age, open('parameter/age.pkl', 'wb'))\n",
    "\n",
    "# vintage \n",
    "df5['vintage'] = mms_vintage.fit_transform(df5[['vintage']].values)\n",
    "#pickle.dump(mms_vintage, open('parameter/vintage.pkl', 'wb'))"
   ]
  },
  {
   "cell_type": "markdown",
   "id": "5a5c2682",
   "metadata": {},
   "source": [
    "## Encoder"
   ]
  },
  {
   "cell_type": "code",
   "execution_count": 46,
   "id": "1fa65679",
   "metadata": {
    "ExecuteTime": {
     "end_time": "2022-08-15T21:01:46.338383Z",
     "start_time": "2022-08-15T21:01:46.154006Z"
    }
   },
   "outputs": [],
   "source": [
    "# gender\n",
    "target_encode_gender = df5.groupby('gender')['response'].mean()\n",
    "df5.loc[:, 'gender'] = df5['gender'].map(target_encode_gender)\n",
    "#pickle.dump(target_encode_gender, open('parameter/target_encode_gender.pkl', 'wb'))\n",
    "\n",
    "# region code - Target Encode\n",
    "target_encode_region_code = df5.groupby('region_code')['response'].mean()\n",
    "df5.loc[:, 'region_code'] = df5['region_code'].map(target_encode_region_code)\n",
    "#pickle.dump(target_encode_region_code, open('parameter/target_encode_region_code.pkl', 'wb'))\n",
    "\n",
    "# vehicle_age - One Hot Encoding  \n",
    "df5 = pd.get_dummies(df5, prefix=['vehicle_age'], columns=['vehicle_age'])\n",
    "\n",
    "# policy_sales_channel - Frequency Encode\n",
    "fe_policy_sales_channel = df5.groupby('policy_sales_channel').size()/len(df5)\n",
    "df5.loc[:, 'policy_sales_channel'] = df5['policy_sales_channel'].map(fe_policy_sales_channel)\n",
    "#pickle.dump(fe_policy_sales_channel, open('parameter/policy_sales_channel.pkl', 'wb'))"
   ]
  },
  {
   "cell_type": "markdown",
   "id": "d9ed4a9d",
   "metadata": {},
   "source": [
    "## 5.4 Validation Preparation"
   ]
  },
  {
   "cell_type": "code",
   "execution_count": 47,
   "id": "f236d19a",
   "metadata": {
    "ExecuteTime": {
     "end_time": "2022-08-15T21:01:46.398633Z",
     "start_time": "2022-08-15T21:01:46.340811Z"
    }
   },
   "outputs": [],
   "source": [
    "# gender\n",
    "x_validation.loc[:, 'gender'] = x_validation.loc[:, 'gender'].map(target_encode_gender)\n",
    "\n",
    "# age \n",
    "x_validation.loc[:, 'age'] = mms_age.transform(x_validation[['age']].values)\n",
    "\n",
    "# region code\n",
    "x_validation.loc[:, 'region_code'] = x_validation.loc[:, 'region_code'].map(target_encode_region_code)\n",
    "\n",
    "# vehicle age\n",
    "x_validation = pd.get_dummies(x_validation, prefix='vehicle_age', columns=['vehicle_age'])\n",
    "\n",
    "# annual_premium\n",
    "x_validation.loc[:, 'annual_premium'] = ssc.transform(x_validation[['annual_premium']].values)\n",
    "\n",
    "# policy_sales_channel\n",
    "x_validation.loc[:, 'policy_sales_channel'] = x_validation['policy_sales_channel'].map(fe_policy_sales_channel)\n",
    "\n",
    "# vintage\n",
    "x_validation.loc[:, 'vintage'] = mms_vintage.transform(x_validation[['vintage']].values)\n",
    "\n",
    "#fillna\n",
    "x_validation = x_validation.fillna(0)"
   ]
  },
  {
   "cell_type": "markdown",
   "id": "2308adff",
   "metadata": {},
   "source": [
    "# 6.0 Feature Selection"
   ]
  },
  {
   "cell_type": "markdown",
   "id": "0e37dd5f",
   "metadata": {},
   "source": [
    "## 6.1 Features Importance"
   ]
  },
  {
   "cell_type": "code",
   "execution_count": null,
   "id": "229dd6a9",
   "metadata": {
    "ExecuteTime": {
     "end_time": "2022-07-07T20:33:24.910784Z",
     "start_time": "2022-07-07T20:33:20.585980Z"
    }
   },
   "outputs": [],
   "source": [
    "forest = en.ExtraTreesClassifier(n_estimators=250, random_state=0, n_jobs=-1)\n",
    "\n",
    "#data preparation\n",
    "x_train_n = df5.drop(['id', 'response'], axis=1)\n",
    "y_train_n = y_train.values\n",
    "forest.fit(x_train_n, y_train_n)"
   ]
  },
  {
   "cell_type": "code",
   "execution_count": null,
   "id": "98446e4f",
   "metadata": {},
   "outputs": [],
   "source": [
    "importances = forest.feature_importances_\n",
    "std = np.std([tree.feature_importances_ for tree in forest.estimators_], axis=0)\n",
    "indices =  np.argsort(importances)[::-1]\n",
    "\n",
    "# print the feature ranking\n",
    "print(\"Feature Ranking:\")\n",
    "df = pd.DataFrame()\n",
    "for i, j in zip(x_train_n, forest.feature_importances_):\n",
    "    aux = pd.DataFrame({'feature':i, 'importance':j}, index=[0])\n",
    "    df = pd.concat([df, aux], axis=0)\n",
    "    \n",
    "print(df.sort_values('importance', ascending=False))\n",
    "\n",
    "# plot the impurity based feature importance of the forest\n",
    "plt.figure()\n",
    "plt.title(\"Feature Importances\")\n",
    "plt.bar(range(x_train_n.shape[1]), importances[indices], color='r', yerr=std[indices], align='center')\n",
    "plt.xticks(range(x_train_n.shape[1]), indices)\n",
    "plt.xlim([-1, x_train_n.shape[1]])\n",
    "plt.show()"
   ]
  },
  {
   "cell_type": "markdown",
   "id": "85ba6c9d",
   "metadata": {},
   "source": [
    "# 7.0 Machine Learning"
   ]
  },
  {
   "cell_type": "code",
   "execution_count": 48,
   "id": "6d3d8631",
   "metadata": {
    "ExecuteTime": {
     "end_time": "2022-08-15T21:01:46.416487Z",
     "start_time": "2022-08-15T21:01:46.400509Z"
    }
   },
   "outputs": [],
   "source": [
    "cols_selected = ['vintage', 'annual_premium', 'age', 'region_code', 'vehicle_damage', 'previously_insured', 'policy_sales_channel']\n",
    "\n",
    "x_train = df5[cols_selected]\n",
    "x_val = x_validation[cols_selected]\n",
    "y_val = y_validation.copy()"
   ]
  },
  {
   "cell_type": "markdown",
   "id": "bd088607",
   "metadata": {
    "heading_collapsed": true
   },
   "source": [
    "## 7.1 KNN "
   ]
  },
  {
   "cell_type": "code",
   "execution_count": null,
   "id": "9c02a2a6",
   "metadata": {
    "ExecuteTime": {
     "end_time": "2022-07-07T20:11:57.305214Z",
     "start_time": "2022-07-07T20:11:50.572020Z"
    },
    "hidden": true
   },
   "outputs": [],
   "source": [
    "# model definition\n",
    "knn_model = nh.KNeighborsClassifier(n_neighbors=8)\n",
    "\n",
    "# model fit\n",
    "knn_model.fit(x_train, y_train)\n",
    "\n",
    "# model predict\n",
    "yhat_knn = knn_model.predict_proba(x_val)"
   ]
  },
  {
   "cell_type": "code",
   "execution_count": null,
   "id": "008d8e8f",
   "metadata": {
    "ExecuteTime": {
     "end_time": "2022-07-07T20:12:00.270151Z",
     "start_time": "2022-07-07T20:12:00.239688Z"
    },
    "hidden": true
   },
   "outputs": [],
   "source": [
    "metrics_knn = metrics_at_k(x_val.copy(), y_validation, yhat_knn, 'KNN')\n",
    "metrics_knn"
   ]
  },
  {
   "cell_type": "code",
   "execution_count": null,
   "id": "65eebdf1",
   "metadata": {
    "ExecuteTime": {
     "end_time": "2022-07-07T20:12:00.814936Z",
     "start_time": "2022-07-07T20:12:00.607411Z"
    },
    "hidden": true,
    "scrolled": true
   },
   "outputs": [],
   "source": [
    "# Accumulative Gain\n",
    "skplt.metrics.plot_cumulative_gain(y_val, yhat_knn);"
   ]
  },
  {
   "cell_type": "code",
   "execution_count": null,
   "id": "2fe8eb0e",
   "metadata": {
    "ExecuteTime": {
     "end_time": "2022-07-07T20:12:01.289200Z",
     "start_time": "2022-07-07T20:12:01.087818Z"
    },
    "hidden": true,
    "scrolled": true
   },
   "outputs": [],
   "source": [
    "skplt.metrics.plot_lift_curve(y_val, yhat_knn);"
   ]
  },
  {
   "cell_type": "markdown",
   "id": "58fdc63d",
   "metadata": {
    "heading_collapsed": true
   },
   "source": [
    "## 7.2 Random Forest"
   ]
  },
  {
   "cell_type": "code",
   "execution_count": null,
   "id": "53a49988",
   "metadata": {
    "ExecuteTime": {
     "end_time": "2022-07-07T20:14:42.696618Z",
     "start_time": "2022-07-07T20:12:02.184637Z"
    },
    "hidden": true
   },
   "outputs": [],
   "source": [
    "# model definition}\n",
    "rf_model = RandomForestClassifier(n_estimators=1000, n_jobs=-1)\n",
    "\n",
    "# model fit\n",
    "rf_model.fit(x_train, y_train)\n",
    "\n",
    "# model predict\n",
    "yhat_rf = rf_model.predict_proba(x_val)"
   ]
  },
  {
   "cell_type": "code",
   "execution_count": null,
   "id": "971377bc",
   "metadata": {
    "ExecuteTime": {
     "end_time": "2022-07-07T20:15:30.674616Z",
     "start_time": "2022-07-07T20:15:30.641449Z"
    },
    "hidden": true
   },
   "outputs": [],
   "source": [
    "metrics_rf = metrics_at_k(x_val.copy(), y_validation, yhat_rf, 'Random Forest')\n",
    "metrics_rf"
   ]
  },
  {
   "cell_type": "code",
   "execution_count": null,
   "id": "6cbe1187",
   "metadata": {
    "ExecuteTime": {
     "end_time": "2022-07-07T20:15:31.346951Z",
     "start_time": "2022-07-07T20:15:31.150782Z"
    },
    "hidden": true,
    "scrolled": true
   },
   "outputs": [],
   "source": [
    "# Accumulative Gain\n",
    "skplt.metrics.plot_cumulative_gain(y_val, yhat_rf);"
   ]
  },
  {
   "cell_type": "code",
   "execution_count": null,
   "id": "d50f9611",
   "metadata": {
    "ExecuteTime": {
     "end_time": "2022-07-07T20:15:40.046787Z",
     "start_time": "2022-07-07T20:15:39.832802Z"
    },
    "hidden": true
   },
   "outputs": [],
   "source": [
    "skplt.metrics.plot_lift_curve(y_val, yhat_rf)"
   ]
  },
  {
   "cell_type": "markdown",
   "id": "bc974ea5",
   "metadata": {
    "heading_collapsed": true
   },
   "source": [
    "## 7.3 Logistic Regression "
   ]
  },
  {
   "cell_type": "code",
   "execution_count": null,
   "id": "fe2fcc38",
   "metadata": {
    "ExecuteTime": {
     "end_time": "2022-07-07T20:15:43.564129Z",
     "start_time": "2022-07-07T20:15:42.757588Z"
    },
    "hidden": true
   },
   "outputs": [],
   "source": [
    "# model definition\n",
    "lr_model = lm.LogisticRegression(random_state=42)\n",
    "\n",
    "# model fit\n",
    "lr_model.fit(x_train, y_train)\n",
    "\n",
    "# model predict\n",
    "yhat_lr = lr_model.predict_proba(x_val)"
   ]
  },
  {
   "cell_type": "code",
   "execution_count": null,
   "id": "fa7a699b",
   "metadata": {
    "ExecuteTime": {
     "end_time": "2022-07-07T20:15:44.288157Z",
     "start_time": "2022-07-07T20:15:44.253637Z"
    },
    "hidden": true
   },
   "outputs": [],
   "source": [
    "metrics_lr = metrics_at_k(x_val.copy(), y_validation, yhat_lr, 'Logistic Regression')\n",
    "metrics_lr"
   ]
  },
  {
   "cell_type": "code",
   "execution_count": null,
   "id": "34d7fc06",
   "metadata": {
    "ExecuteTime": {
     "end_time": "2022-07-07T20:15:44.762969Z",
     "start_time": "2022-07-07T20:15:44.553598Z"
    },
    "hidden": true,
    "scrolled": true
   },
   "outputs": [],
   "source": [
    "# Accumulative Gain\n",
    "skplt.metrics.plot_cumulative_gain(y_val, yhat_lr);"
   ]
  },
  {
   "cell_type": "code",
   "execution_count": null,
   "id": "c5bbd6c3",
   "metadata": {
    "ExecuteTime": {
     "end_time": "2022-07-07T20:15:46.835354Z",
     "start_time": "2022-07-07T20:15:46.620604Z"
    },
    "hidden": true
   },
   "outputs": [],
   "source": [
    "skplt.metrics.plot_lift_curve(y_val, yhat_lr)"
   ]
  },
  {
   "cell_type": "markdown",
   "id": "f4dc3a11",
   "metadata": {
    "heading_collapsed": true
   },
   "source": [
    "## 7.4 XGBoost"
   ]
  },
  {
   "cell_type": "code",
   "execution_count": null,
   "id": "cf58aa0e",
   "metadata": {
    "ExecuteTime": {
     "end_time": "2022-07-07T20:15:55.060756Z",
     "start_time": "2022-07-07T20:15:47.588350Z"
    },
    "hidden": true
   },
   "outputs": [],
   "source": [
    "# model definition\n",
    "xgb_model = XGBClassifier(objective='binary:logistic', verbosity=0)\n",
    "\n",
    "# model fit\n",
    "xgb_model.fit(x_train, y_train)\n",
    "\n",
    "# model predict\n",
    "yhat_xgb = xgb_model.predict_proba(x_val)"
   ]
  },
  {
   "cell_type": "code",
   "execution_count": null,
   "id": "3909411e",
   "metadata": {
    "ExecuteTime": {
     "end_time": "2022-07-07T20:15:56.055101Z",
     "start_time": "2022-07-07T20:15:56.021803Z"
    },
    "hidden": true
   },
   "outputs": [],
   "source": [
    "metrics_xgb = metrics_at_k(x_val.copy(), y_validation, yhat_xgb, 'XGB')\n",
    "metrics_xgb"
   ]
  },
  {
   "cell_type": "code",
   "execution_count": null,
   "id": "d7b52e43",
   "metadata": {
    "ExecuteTime": {
     "end_time": "2022-07-07T20:15:56.986800Z",
     "start_time": "2022-07-07T20:15:56.787143Z"
    },
    "hidden": true,
    "scrolled": true
   },
   "outputs": [],
   "source": [
    "# Accumulative Gain\n",
    "skplt.metrics.plot_cumulative_gain(y_val, yhat_xgb);"
   ]
  },
  {
   "cell_type": "code",
   "execution_count": null,
   "id": "4cf06a9a",
   "metadata": {
    "ExecuteTime": {
     "end_time": "2022-07-07T20:16:03.105684Z",
     "start_time": "2022-07-07T20:16:02.896722Z"
    },
    "hidden": true
   },
   "outputs": [],
   "source": [
    "skplt.metrics.plot_lift_curve(y_val, yhat_xgb)"
   ]
  },
  {
   "cell_type": "markdown",
   "id": "8638be1c",
   "metadata": {
    "heading_collapsed": true
   },
   "source": [
    "## 7.5 ExtraTrees"
   ]
  },
  {
   "cell_type": "code",
   "execution_count": null,
   "id": "d3e608fe",
   "metadata": {
    "ExecuteTime": {
     "start_time": "2022-07-07T20:16:13.379Z"
    },
    "hidden": true
   },
   "outputs": [],
   "source": [
    "# model definition\n",
    "extratrees_model = ExtraTreesClassifier(n_estimators=1000, n_jobs=-1, random_state=42)\n",
    "\n",
    "# model fit\n",
    "extratrees_model.fit(x_train, y_train)\n",
    "\n",
    "# model predict\n",
    "yhat_extratrees = extratrees_model.predict_proba(x_val)"
   ]
  },
  {
   "cell_type": "code",
   "execution_count": null,
   "id": "4961ab4c",
   "metadata": {
    "ExecuteTime": {
     "end_time": "2022-07-06T19:02:11.367468Z",
     "start_time": "2022-07-06T19:02:11.367452Z"
    },
    "hidden": true
   },
   "outputs": [],
   "source": [
    "metrics_extratrees = metrics_at_k(x_val.copy(), y_validation, yhat_extratrees, 'ExtraTrees')\n",
    "metrics_extratrees"
   ]
  },
  {
   "cell_type": "code",
   "execution_count": null,
   "id": "1bfeb1e3",
   "metadata": {
    "hidden": true,
    "scrolled": true
   },
   "outputs": [],
   "source": [
    "# Accumulative Gain\n",
    "skplt.metrics.plot_cumulative_gain(y_val, yhat_extratrees);"
   ]
  },
  {
   "cell_type": "code",
   "execution_count": null,
   "id": "efbbee52",
   "metadata": {
    "hidden": true
   },
   "outputs": [],
   "source": [
    "skplt.metrics.plot_lift_curve(y_val, yhat_extratrees)"
   ]
  },
  {
   "cell_type": "markdown",
   "id": "b8440687",
   "metadata": {
    "heading_collapsed": true
   },
   "source": [
    "## 7.6 LightGBM"
   ]
  },
  {
   "cell_type": "code",
   "execution_count": null,
   "id": "223222be",
   "metadata": {
    "ExecuteTime": {
     "end_time": "2022-07-07T20:25:38.342475Z",
     "start_time": "2022-07-07T20:25:37.397188Z"
    },
    "hidden": true
   },
   "outputs": [],
   "source": [
    "# model definition\n",
    "lgb = LGBMClassifier(objective='binary', class_weight='balanced')\n",
    "\n",
    "# model fit\n",
    "lgb.fit(x_train, y_train)\n",
    "\n",
    "# model predict\n",
    "yhat_lgbm = lgb.predict_proba(x_val)"
   ]
  },
  {
   "cell_type": "code",
   "execution_count": null,
   "id": "6b1dbbe2",
   "metadata": {
    "ExecuteTime": {
     "end_time": "2022-07-07T20:25:39.956783Z",
     "start_time": "2022-07-07T20:25:39.924964Z"
    },
    "hidden": true
   },
   "outputs": [],
   "source": [
    "metrics_lgbm = metrics_at_k(x_val.copy(), y_validation, yhat_lgbm, 'LGBM')\n",
    "metrics_lgbm"
   ]
  },
  {
   "cell_type": "code",
   "execution_count": null,
   "id": "15622905",
   "metadata": {
    "ExecuteTime": {
     "end_time": "2022-07-07T20:25:40.956404Z",
     "start_time": "2022-07-07T20:25:40.734457Z"
    },
    "hidden": true,
    "scrolled": true
   },
   "outputs": [],
   "source": [
    "# Accumulative Gain\n",
    "skplt.metrics.plot_cumulative_gain(y_val, yhat_lgbm);"
   ]
  },
  {
   "cell_type": "code",
   "execution_count": null,
   "id": "1ccc685c",
   "metadata": {
    "ExecuteTime": {
     "end_time": "2022-07-07T20:25:41.671141Z",
     "start_time": "2022-07-07T20:25:41.459885Z"
    },
    "hidden": true,
    "scrolled": true
   },
   "outputs": [],
   "source": [
    "skplt.metrics.plot_lift_curve(y_val, yhat_lgbm)"
   ]
  },
  {
   "cell_type": "markdown",
   "id": "1b9164c0",
   "metadata": {
    "heading_collapsed": true
   },
   "source": [
    "## 7.7 Model Results"
   ]
  },
  {
   "cell_type": "code",
   "execution_count": null,
   "id": "f1693f5f",
   "metadata": {
    "hidden": true,
    "scrolled": true
   },
   "outputs": [],
   "source": [
    "model_metrics = pd.concat([metrics_knn, metrics_lr, metrics_xgb, metrics_extratrees, metrics_lgbm])\n",
    "model_metrics.style.highlight_max(color='lightgreen', axis=0)\n"
   ]
  },
  {
   "cell_type": "markdown",
   "id": "072f1094",
   "metadata": {
    "heading_collapsed": true
   },
   "source": [
    "## 7.8 Cross Validation Model Results"
   ]
  },
  {
   "cell_type": "code",
   "execution_count": null,
   "id": "bbab4b1d",
   "metadata": {
    "hidden": true
   },
   "outputs": [],
   "source": [
    "metrics_cv_knn = cross_validation('KNN', nh.KNeighborsClassifier(), x_train, y_train)\n",
    "metrics_cv_lr = cross_validation('Logistic Regression', lm.LogisticRegression(), x_train, y_train)\n",
    "metrics_cv_xgb = cross_validation('XGB', XGBClassifier(), x_train, y_train)\n",
    "metrics_cv_extratrees = cross_validation('Extra Tress', ExtraTreesClassifier(), x_train, y_train)\n",
    "metrics_cv_lgbm = cross_validation('LGBM', LGBMClassifier(), x_train, y_train)"
   ]
  },
  {
   "cell_type": "code",
   "execution_count": null,
   "id": "b20d2070",
   "metadata": {
    "hidden": true
   },
   "outputs": [],
   "source": [
    "metrics_cv = pd.concat([metrics_cv_knn, metrics_cv_lr, metrics_cv_xgb, metrics_cv_extratrees, metrics_cv_lgbm])\n",
    "metrics_cv"
   ]
  },
  {
   "cell_type": "markdown",
   "id": "9d29bab3",
   "metadata": {
    "heading_collapsed": true
   },
   "source": [
    "# 8.0 Hyperparameter Fine Tuning "
   ]
  },
  {
   "cell_type": "markdown",
   "id": "af6b42b5",
   "metadata": {
    "heading_collapsed": true,
    "hidden": true
   },
   "source": [
    "## 8.1 LGBM"
   ]
  },
  {
   "cell_type": "code",
   "execution_count": null,
   "id": "ca8ff366",
   "metadata": {
    "ExecuteTime": {
     "end_time": "2022-07-07T20:51:57.236592Z",
     "start_time": "2022-07-07T20:51:57.234155Z"
    },
    "hidden": true
   },
   "outputs": [],
   "source": [
    "max_eval = 5"
   ]
  },
  {
   "cell_type": "code",
   "execution_count": null,
   "id": "d7335aa2",
   "metadata": {
    "ExecuteTime": {
     "end_time": "2022-07-07T20:51:57.796288Z",
     "start_time": "2022-07-07T20:51:57.792415Z"
    },
    "hidden": true
   },
   "outputs": [],
   "source": [
    "lgbm_parameter = {'num_leaves': (5, 15, 45, 60, 90),\n",
    "                  'max_depth': (5, 7, 10),\n",
    "                  'min_split_gain': (0.001, 0.01, 0.1),\n",
    "                  'min_child_weight': (10, 50, 30, 40),\n",
    "                  'subsample': (0.5, 1)\n",
    "                 }"
   ]
  },
  {
   "cell_type": "code",
   "execution_count": null,
   "id": "45853901",
   "metadata": {
    "ExecuteTime": {
     "end_time": "2022-07-07T20:51:58.160364Z",
     "start_time": "2022-07-07T20:51:58.157621Z"
    },
    "hidden": true
   },
   "outputs": [],
   "source": [
    "final_result = pd.DataFrame()"
   ]
  },
  {
   "cell_type": "code",
   "execution_count": null,
   "id": "c85bb3b9",
   "metadata": {
    "ExecuteTime": {
     "end_time": "2022-07-07T20:52:03.869209Z",
     "start_time": "2022-07-07T20:51:59.208394Z"
    },
    "hidden": true
   },
   "outputs": [],
   "source": [
    "for i in range (max_eval):\n",
    "    #escolher parametro aleatoriamente\n",
    "    hp = {k: rd.sample(v,1)[0] for k, v in lgbm_parameter.items()}\n",
    "    print(hp)\n",
    "    model_lgbm  = LGBMClassifier(num_leaves=hp['num_leaves'],\n",
    "                                max_depth=hp['max_depth'],\n",
    "                                min_split_gain=hp['min_split_gain'],\n",
    "                                min_child_weight=hp['min_child_weight'],\n",
    "                                subsample=hp['subsample']).fit(x_train, y_train)\n",
    "    \n",
    "    yhat_lgbm_hp=model_lgbm.predict_proba(x_val)\n",
    "    lgbm_result_hp = metrics_at_k(x_val.copy(), y_validation, yhat_lgbm_hp, 'LGBM')\n",
    "    final_result = pd.concat([final_result, lgbm_result_hp])\n"
   ]
  },
  {
   "cell_type": "code",
   "execution_count": null,
   "id": "9d0b3bec",
   "metadata": {
    "ExecuteTime": {
     "end_time": "2022-07-07T20:52:04.443432Z",
     "start_time": "2022-07-07T20:52:04.437854Z"
    },
    "hidden": true,
    "scrolled": true
   },
   "outputs": [],
   "source": [
    "final_result"
   ]
  },
  {
   "cell_type": "markdown",
   "id": "a4dd6dc0",
   "metadata": {
    "heading_collapsed": true,
    "hidden": true
   },
   "source": [
    "## 8.2 XGBoost"
   ]
  },
  {
   "cell_type": "code",
   "execution_count": null,
   "id": "c89ac9f1",
   "metadata": {
    "ExecuteTime": {
     "end_time": "2022-07-07T20:55:15.036614Z",
     "start_time": "2022-07-07T20:55:15.033612Z"
    },
    "hidden": true
   },
   "outputs": [],
   "source": [
    "max_eval = 5"
   ]
  },
  {
   "cell_type": "code",
   "execution_count": null,
   "id": "9ef242c8",
   "metadata": {
    "ExecuteTime": {
     "end_time": "2022-07-07T20:55:15.329947Z",
     "start_time": "2022-07-07T20:55:15.325564Z"
    },
    "hidden": true
   },
   "outputs": [],
   "source": [
    "final_result_xgb = pd.DataFrame()"
   ]
  },
  {
   "cell_type": "code",
   "execution_count": null,
   "id": "0663cd65",
   "metadata": {
    "ExecuteTime": {
     "end_time": "2022-07-07T20:55:15.632646Z",
     "start_time": "2022-07-07T20:55:15.629322Z"
    },
    "hidden": true
   },
   "outputs": [],
   "source": [
    "xgb_parameter = { 'max_depth': (6, 8, 11),\n",
    "                  'n_estimators': (80, 100, 300, 500, 1000, 2000, 3500),\n",
    "                  'eta': (1, 2, 3),\n",
    "                  'subsample': (0.5, 1)\n",
    "                 }"
   ]
  },
  {
   "cell_type": "code",
   "execution_count": null,
   "id": "83c6a812",
   "metadata": {
    "ExecuteTime": {
     "end_time": "2022-07-07T21:02:03.638652Z",
     "start_time": "2022-07-07T20:55:16.565348Z"
    },
    "hidden": true,
    "scrolled": true
   },
   "outputs": [],
   "source": [
    "for i in range (max_eval):\n",
    "    #escolher parametro aleatoriamente\n",
    "    hp = {k: rd.sample(v,1)[0] for k, v in xgb_parameter.items()}\n",
    "    print(hp)\n",
    "    model_xgb  = XGBClassifier( max_depth=hp['max_depth'],\n",
    "                                n_estimators=hp['n_estimators'],\n",
    "                                eta=hp['eta'],\n",
    "                                subsample=hp['subsample']).fit(x_train, y_train)\n",
    "    \n",
    "    yhat_xgb_hp=model_xgb.predict_proba(x_val)\n",
    "    xgb_result_hp = metrics_at_k(x_val.copy(), y_validation, yhat_xgb_hp, 'XGB')\n",
    "    final_result_xgb = pd.concat([final_result, lgbm_result_hp])\n"
   ]
  },
  {
   "cell_type": "code",
   "execution_count": null,
   "id": "ac0282a0",
   "metadata": {
    "ExecuteTime": {
     "end_time": "2022-07-07T21:02:13.456964Z",
     "start_time": "2022-07-07T21:02:13.451120Z"
    },
    "hidden": true
   },
   "outputs": [],
   "source": [
    "final_result_xgb"
   ]
  },
  {
   "cell_type": "markdown",
   "id": "31727c46",
   "metadata": {
    "hidden": true
   },
   "source": [
    "Podemos verificar que não houve ganho de perfomance em nenhum dos modelos com o fine tunning, continuaremos com o LGBM por ter o melhor resultado, e ser um modelo leve."
   ]
  },
  {
   "cell_type": "markdown",
   "id": "47d8b1dd",
   "metadata": {},
   "source": [
    "# 9.0 Conclusão"
   ]
  },
  {
   "cell_type": "markdown",
   "id": "712ec5eb",
   "metadata": {},
   "source": [
    "## 9.1 Final Model"
   ]
  },
  {
   "cell_type": "code",
   "execution_count": 49,
   "id": "a10bf5dd",
   "metadata": {
    "ExecuteTime": {
     "end_time": "2022-08-15T21:01:59.158313Z",
     "start_time": "2022-08-15T21:01:59.155301Z"
    }
   },
   "outputs": [],
   "source": [
    "best_params_lgbm = {'num_leaves': 90,\n",
    "                  'max_depth': 10,\n",
    "                  'min_split_gain': 0.1,\n",
    "                  'min_child_weight': 30,\n",
    "                  'subsample': 1\n",
    "                 }"
   ]
  },
  {
   "cell_type": "code",
   "execution_count": 50,
   "id": "a881c1be",
   "metadata": {
    "ExecuteTime": {
     "end_time": "2022-08-15T21:02:01.194461Z",
     "start_time": "2022-08-15T21:01:59.786332Z"
    }
   },
   "outputs": [],
   "source": [
    "lgbm_hp = LGBMClassifier(num_leaves=best_params_lgbm['num_leaves'],\n",
    "                         max_depth=best_params_lgbm['max_depth'],\n",
    "                         min_split_gain=best_params_lgbm['min_split_gain'],\n",
    "                         min_child_weight=best_params_lgbm['min_child_weight'],\n",
    "                         subsample=best_params_lgbm['subsample']).fit(x_train, y_train)\n",
    "\n",
    "# model predict\n",
    "yhat_lgbm_hp = lgbm_hp.predict_proba(x_val)"
   ]
  },
  {
   "cell_type": "code",
   "execution_count": 51,
   "id": "3db4d004",
   "metadata": {
    "ExecuteTime": {
     "end_time": "2022-08-15T21:02:02.692314Z",
     "start_time": "2022-08-15T21:02:02.661807Z"
    }
   },
   "outputs": [
    {
     "data": {
      "text/html": [
       "<div>\n",
       "<style scoped>\n",
       "    .dataframe tbody tr th:only-of-type {\n",
       "        vertical-align: middle;\n",
       "    }\n",
       "\n",
       "    .dataframe tbody tr th {\n",
       "        vertical-align: top;\n",
       "    }\n",
       "\n",
       "    .dataframe thead th {\n",
       "        text-align: right;\n",
       "    }\n",
       "</style>\n",
       "<table border=\"1\" class=\"dataframe\">\n",
       "  <thead>\n",
       "    <tr style=\"text-align: right;\">\n",
       "      <th></th>\n",
       "      <th>Precision_at_k</th>\n",
       "      <th>Recall_at_k</th>\n",
       "    </tr>\n",
       "  </thead>\n",
       "  <tbody>\n",
       "    <tr>\n",
       "      <th>LGBM</th>\n",
       "      <td>0.32933</td>\n",
       "      <td>0.70919</td>\n",
       "    </tr>\n",
       "  </tbody>\n",
       "</table>\n",
       "</div>"
      ],
      "text/plain": [
       "      Precision_at_k  Recall_at_k\n",
       "LGBM         0.32933      0.70919"
      ]
     },
     "execution_count": 51,
     "metadata": {},
     "output_type": "execute_result"
    }
   ],
   "source": [
    "metrics_lgbm_hp = metrics_at_k(x_val.copy(), y_validation, yhat_lgbm_hp, 'LGBM')\n",
    "metrics_lgbm_hp"
   ]
  },
  {
   "cell_type": "code",
   "execution_count": 52,
   "id": "a715eaa8",
   "metadata": {
    "ExecuteTime": {
     "end_time": "2022-08-15T21:02:04.619204Z",
     "start_time": "2022-08-15T21:02:04.387798Z"
    }
   },
   "outputs": [
    {
     "data": {
      "image/png": "[encoded data removed]",
      "text/plain": [
       "<Figure size 1296x648 with 1 Axes>"
      ]
     },
     "metadata": {},
     "output_type": "display_data"
    }
   ],
   "source": [
    "# Accumulative Gain\n",
    "skplt.metrics.plot_cumulative_gain(y_val, yhat_lgbm_hp);"
   ]
  },
  {
   "cell_type": "code",
   "execution_count": 53,
   "id": "5f9409e5",
   "metadata": {
    "ExecuteTime": {
     "end_time": "2022-08-15T21:02:05.353489Z",
     "start_time": "2022-08-15T21:02:05.122951Z"
    }
   },
   "outputs": [
    {
     "data": {
      "text/plain": [
       "<AxesSubplot:title={'center':'Lift Curve'}, xlabel='Percentage of sample', ylabel='Lift'>"
      ]
     },
     "execution_count": 53,
     "metadata": {},
     "output_type": "execute_result"
    },
    {
     "data": {
      "image/png": "[encoded data removed]",
      "text/plain": [
       "<Figure size 1296x648 with 1 Axes>"
      ]
     },
     "metadata": {},
     "output_type": "display_data"
    }
   ],
   "source": [
    "# lift curve\n",
    "skplt.metrics.plot_lift_curve(y_val, yhat_lgbm_hp)"
   ]
  },
  {
   "cell_type": "markdown",
   "id": "66883609",
   "metadata": {},
   "source": [
    "## 9.2 Perguntas de Negócios"
   ]
  },
  {
   "cell_type": "markdown",
   "id": "a902ae1d",
   "metadata": {},
   "source": [
    "### 9.2.1 Principais Insights Obtidos no Projeto"
   ]
  },
  {
   "cell_type": "markdown",
   "id": "32b8f3ab",
   "metadata": {},
   "source": [
    "1. Homens são mais propensos a comprar seguro do carro do que as mulheres.\n",
    "2. Pessoas acima de 40 anos são mais propensos a comprar o seguro do carro.\n",
    "3. Clientes há mais de 100 dias do seguro saúde tendem a ter interesse no seguro do carro."
   ]
  },
  {
   "cell_type": "markdown",
   "id": "30c6b3e1",
   "metadata": {},
   "source": [
    "### 9.2.2 Qual a porcentagem de clientes interessados em adquirir um seguro de automóvel o time de vendas conseguirá contatar realizando 20.000 ligações?"
   ]
  },
  {
   "cell_type": "code",
   "execution_count": 54,
   "id": "d95c85c5",
   "metadata": {
    "ExecuteTime": {
     "end_time": "2022-08-15T21:02:09.197939Z",
     "start_time": "2022-08-15T21:02:08.740416Z"
    }
   },
   "outputs": [
    {
     "data": {
      "text/plain": [
       "<Figure size 936x576 with 0 Axes>"
      ]
     },
     "metadata": {},
     "output_type": "display_data"
    },
    {
     "data": {
      "image/png": "[encoded data removed]",
      "text/plain": [
       "<Figure size 1296x648 with 1 Axes>"
      ]
     },
     "metadata": {},
     "output_type": "display_data"
    },
    {
     "data": {
      "image/png": "[encoded data removed]",
      "text/plain": [
       "<Figure size 1296x648 with 1 Axes>"
      ]
     },
     "metadata": {},
     "output_type": "display_data"
    }
   ],
   "source": [
    "plt.figure(figsize=(13,8))\n",
    "\n",
    "\n",
    "skplt.metrics.plot_cumulative_gain(y_validation, yhat_lgbm_hp);\n",
    "plt.axvline(0.26, 0, 1, color='green', ls='--', lw=3);\n",
    "plt.axhline(0.72, 0, 1, color='green', ls='--', lw=3);\n",
    "\n",
    "skplt.metrics.plot_lift_curve(y_validation, yhat_lgbm_hp);\n",
    "plt.axvline(0.2634, 0, 1, color='green', ls='--', lw=3);"
   ]
  },
  {
   "cell_type": "markdown",
   "id": "1b82ee28",
   "metadata": {},
   "source": [
    "Ao realizar 20 mil ligações, o que representa cerca de 25% da base de clientes, conseguiremos contactar cerca de 70% de clientes interessados em adquirir o seguro para o automóvel.\n",
    "\n",
    "Ao observarmos a curva lift, observamos que nosso modelo é 2.6x melhor que fazer o trabalho manual de prospecção e oferta ao cliente ao realizar essas 20 mil ligações."
   ]
  },
  {
   "cell_type": "markdown",
   "id": "88a8538d",
   "metadata": {},
   "source": [
    "### 9.2.2 Qual a porcentagem de clientes interessados em adquirir um seguro de automóvel o time de vendas conseguirá contatar realizando 30.000 ligações?"
   ]
  },
  {
   "cell_type": "code",
   "execution_count": 55,
   "id": "1edcab20",
   "metadata": {
    "ExecuteTime": {
     "end_time": "2022-08-15T21:02:11.805835Z",
     "start_time": "2022-08-15T21:02:11.566506Z"
    }
   },
   "outputs": [
    {
     "data": {
      "text/plain": [
       "<Figure size 936x576 with 0 Axes>"
      ]
     },
     "metadata": {},
     "output_type": "display_data"
    },
    {
     "data": {
      "image/png": "[encoded data removed]",
      "text/plain": [
       "<Figure size 1296x648 with 1 Axes>"
      ]
     },
     "metadata": {},
     "output_type": "display_data"
    }
   ],
   "source": [
    "plt.figure(figsize=(13,8))\n",
    "\n",
    "skplt.metrics.plot_cumulative_gain(y_validation, yhat_lgbm_hp);\n",
    "plt.axvline(0.40, 0, 1, color='green', ls='--', lw=3);\n",
    "plt.axhline(0.93, 0, 1, color='green', ls='--', lw=3);"
   ]
  },
  {
   "cell_type": "markdown",
   "id": "2e92ed08",
   "metadata": {},
   "source": [
    "Ao fazer 30 mil ligações, o que representa cerca de 40% da base, conseguiremos atingir 93% de todos os clientes interessados"
   ]
  },
  {
   "cell_type": "markdown",
   "id": "2646641d",
   "metadata": {},
   "source": [
    "# 10.0 Deploy"
   ]
  },
  {
   "cell_type": "code",
   "execution_count": null,
   "id": "9c70f9a6",
   "metadata": {
    "ExecuteTime": {
     "end_time": "2022-07-15T18:51:11.084824Z",
     "start_time": "2022-07-15T18:51:11.022621Z"
    }
   },
   "outputs": [],
   "source": [
    "# model trained\n",
    "pickle.dump(lgbm_hp, open('parameter/lgbm_hp.pkl', 'wb'))"
   ]
  },
  {
   "cell_type": "markdown",
   "id": "4490f22a",
   "metadata": {},
   "source": [
    "## 10.1 Health Insurance Class"
   ]
  },
  {
   "cell_type": "code",
   "execution_count": null,
   "id": "61396904",
   "metadata": {
    "ExecuteTime": {
     "end_time": "2022-07-15T18:51:31.950805Z",
     "start_time": "2022-07-15T18:51:31.939195Z"
    }
   },
   "outputs": [],
   "source": [
    "class HealthInsurance:\n",
    "    def __init__(self):\n",
    "        self.home_path                        = '/home/gonzaga/Documentos/repos/pa004/'\n",
    "        self.annual_premium_scaler            = pickle.load( open( self.home_path + 'parameter/annual_premium.pkl'))\n",
    "        self.age_scaler                       = pickle.load( open( self.home_path + 'parameter/age.pkl'))\n",
    "        self.vintage_scaler                   = pickle.load( open( self.home_path + 'parameter/vintage.pkl'))\n",
    "        self.target_encode_gender_scaler      = pickle.load( open( self.home_path + 'parameter/target_encode_gender.pkl'))\n",
    "        self.target_encode_region_code_scaler = pickle.load( open( self.home_path + 'parameter/target_encode_region_code.pkl'))\n",
    "        self.fe_policy_sales_channel_scaler   = pickle.load( open( self.home_path + 'parameter/policy_sales_channel.pkl'))\n",
    "    \n",
    "    def feature_engineering(data):\n",
    "        # vehicle age\n",
    "        data['vehicle_age'] = data['vehicle_age'].apply(lambda x: 'over_2_years' if x == '> 2 Years' else 'between_1_2_year' if x == '1-2 Year' else 'bellow_1_year')\n",
    "\n",
    "        # vehicle damage\n",
    "        data['vehicle_damage'] = data['vehicle_damage'].apply(lambda x: 1 if x == 'Yes' else 0)\n",
    "        \n",
    "        return data\n",
    "    \n",
    "    def data_preparation(data):\n",
    "\n",
    "        # annual premium\n",
    "        data['annual_premium'] = self.annual_premium_scaler.transform(data[['annual_premium']].values)\n",
    "        \n",
    "        # age\n",
    "        data['age'] = self.age_scaler.transform(data[['age']].values)\n",
    "\n",
    "        # vintage \n",
    "        data['vintage'] = self.vintage_scaler.transform(data[['vintage']].values)\n",
    "\n",
    "        # gender\n",
    "        data.loc[:, 'gender'] = data['gender'].map(self.target_encode_gender_scaler)\n",
    "\n",
    "        # region code - Target Encode\n",
    "        data.loc[:, 'region_code'] = data['region_code'].map(self.target_encode_region_code_scaler)\n",
    "\n",
    "        # vehicle_age - One Hot Encoding  \n",
    "        data = pd.get_dummies(data, prefix=['vehicle_age'], columns=['vehicle_age'])\n",
    "        \n",
    "        # policy_sales_channel - Frequency Encode\n",
    "        data.loc[:, 'policy_sales_channel'] = data['policy_sales_channel'].map(self.fe_policy_sales_channel_scaler)\n",
    "\n",
    "        cols_selected = ['vintage', 'annual_premium', 'age', 'region_code', 'vehicle_damage', 'previously_insured', 'policy_sales_channel']\n",
    "\n",
    "        return data[cols_selected]\n",
    "    \n",
    "    def get_prediction(self, model, original_data, test_data):\n",
    "        # model prediction\n",
    "        pred = model.predict_proba(test_data)\n",
    "        \n",
    "        #join prediction into original data\n",
    "        original_data['prediction'] = pred\n",
    "        \n",
    "        return original_data.to_json(orient='records', date_format='iso')"
   ]
  },
  {
   "cell_type": "markdown",
   "id": "4bee9c23",
   "metadata": {},
   "source": [
    "# 10.2 API Handler"
   ]
  },
  {
   "cell_type": "code",
   "execution_count": 2,
   "id": "dc88f31a",
   "metadata": {
    "ExecuteTime": {
     "end_time": "2022-07-21T00:19:53.824372Z",
     "start_time": "2022-07-20T23:42:41.183268Z"
    },
    "code_folding": [],
    "scrolled": true
   },
   "outputs": [
    {
     "name": "stdout",
     "output_type": "stream",
     "text": [
      " * Serving Flask app '__main__' (lazy loading)\n",
      " * Environment: production\n",
      "\u001b[31m   WARNING: This is a development server. Do not use it in a production deployment.\u001b[0m\n",
      "\u001b[2m   Use a production WSGI server instead.\u001b[0m\n",
      " * Debug mode: off\n"
     ]
    },
    {
     "name": "stderr",
     "output_type": "stream",
     "text": [
      " * Running on all addresses (0.0.0.0)\n",
      "   WARNING: This is a development server. Do not use it in a production deployment.\n",
      " * Running on http://127.0.0.1:5000\n",
      " * Running on http://192.168.0.105:5000 (Press CTRL+C to quit)\n"
     ]
    }
   ],
   "source": [
    "import pickle\n",
    "import pandas as pd\n",
    "from flask import Flask, request, Response\n",
    "from healthinsurance.HealthInsurance import HealthInsurance\n",
    "\n",
    "path = '/home/gonzaga/Documentos/repos/pa004/'\n",
    "model = pickle.load( open( path + 'parameter/lgbm_hp.pkl', 'rb' ) )\n",
    "\n",
    "                    \n",
    "# initialize API\n",
    "app = Flask(__name__)\n",
    "                    \n",
    "@app.route('/heathinsurance/predict', methods=['POST'])\n",
    "\n",
    "def health_insurance_predict():\n",
    "    test_json = request.get_json()\n",
    "    \n",
    "                    \n",
    "    if test_json: #there is data\n",
    "        if isinstance(test_json, dict): #unique example\n",
    "            test_raw = pd.DataFrame(test_json, index=[0])\n",
    "                    \n",
    "        else:\n",
    "            test_raw = pd.DataFrame(test_json, columns=test_json[0].keys())\n",
    "    \n",
    "        pipeline = HealthInsurance()\n",
    "                    \n",
    "        #feature engineering\n",
    "        df2 = pipeline.feature_engineering(test_raw)\n",
    "        \n",
    "        #data preparation\n",
    "        df5 = pipeline.data_preparation(df2)\n",
    "        \n",
    "        #prediction\n",
    "        df_response = pipeline.get_prediction(model, test_raw, df5) \n",
    "        \n",
    "        return df_response\n",
    "        \n",
    "                \n",
    "    else:\n",
    "        return Response('{}', status=200, mimetype='application/json')\n",
    "                    \n",
    "if __name__ == '__main__':\n",
    "    app.run('0.0.0.0')"
   ]
  },
  {
   "cell_type": "code",
   "execution_count": 64,
   "id": "9de0961f",
   "metadata": {
    "ExecuteTime": {
     "end_time": "2022-07-21T00:29:27.306298Z",
     "start_time": "2022-07-21T00:29:27.303712Z"
    }
   },
   "outputs": [],
   "source": [
    "import requests"
   ]
  },
  {
   "cell_type": "code",
   "execution_count": 65,
   "id": "eaf314bc",
   "metadata": {
    "ExecuteTime": {
     "end_time": "2022-07-21T00:29:27.835144Z",
     "start_time": "2022-07-21T00:29:27.830658Z"
    }
   },
   "outputs": [],
   "source": [
    "#loading dataset\n",
    "df_test = df3\n",
    "#df_test['response'] = y_validation"
   ]
  },
  {
   "cell_type": "code",
   "execution_count": 66,
   "id": "c85fea9a",
   "metadata": {
    "ExecuteTime": {
     "end_time": "2022-07-21T00:29:28.520370Z",
     "start_time": "2022-07-21T00:29:28.509465Z"
    }
   },
   "outputs": [],
   "source": [
    "df_test = df_test.sample(50)"
   ]
  },
  {
   "cell_type": "code",
   "execution_count": 67,
   "id": "472d2893",
   "metadata": {
    "ExecuteTime": {
     "end_time": "2022-07-21T00:29:29.115296Z",
     "start_time": "2022-07-21T00:29:29.110424Z"
    }
   },
   "outputs": [],
   "source": [
    "# convert dataframe to json\n",
    "data = json.dumps(df_test.to_dict(orient = 'records'))"
   ]
  },
  {
   "cell_type": "code",
   "execution_count": 68,
   "id": "7635a4bb",
   "metadata": {
    "ExecuteTime": {
     "end_time": "2022-07-21T00:29:29.586966Z",
     "start_time": "2022-07-21T00:29:29.580959Z"
    },
    "scrolled": false
   },
   "outputs": [
    {
     "data": {
      "text/plain": [
       "'[{\"id\": 178019, \"gender\": \"Male\", \"age\": 58, \"region_code\": 28.0, \"policy_sales_channel\": 26.0, \"driving_license\": 1, \"vehicle_age\": \"between_1_2_year\", \"vehicle_damage\": 1, \"previously_insured\": 0, \"annual_premium\": 2630.0, \"vintage\": 250, \"response\": 0}, {\"id\": 178307, \"gender\": \"Male\", \"age\": 35, \"region_code\": 28.0, \"policy_sales_channel\": 122.0, \"driving_license\": 1, \"vehicle_age\": \"between_1_2_year\", \"vehicle_damage\": 1, \"previously_insured\": 0, \"annual_premium\": 62877.0, \"vintage\": 37, \"response\": 0}, {\"id\": 90324, \"gender\": \"Male\", \"age\": 26, \"region_code\": 41.0, \"policy_sales_channel\": 152.0, \"driving_license\": 1, \"vehicle_age\": \"bellow_1_year\", \"vehicle_damage\": 0, \"previously_insured\": 1, \"annual_premium\": 31544.0, \"vintage\": 210, \"response\": 0}, {\"id\": 152311, \"gender\": \"Male\", \"age\": 31, \"region_code\": 13.0, \"policy_sales_channel\": 124.0, \"driving_license\": 1, \"vehicle_age\": \"bellow_1_year\", \"vehicle_damage\": 1, \"previously_insured\": 0, \"annual_premium\": 26694.0, \"vintage\": 192, \"response\": 0}, {\"id\": 313831, \"gender\": \"Female\", \"age\": 46, \"region_code\": 46.0, \"policy_sales_channel\": 26.0, \"driving_license\": 1, \"vehicle_age\": \"between_1_2_year\", \"vehicle_damage\": 1, \"previously_insured\": 0, \"annual_premium\": 30886.0, \"vintage\": 11, \"response\": 0}, {\"id\": 261799, \"gender\": \"Female\", \"age\": 34, \"region_code\": 15.0, \"policy_sales_channel\": 152.0, \"driving_license\": 1, \"vehicle_age\": \"between_1_2_year\", \"vehicle_damage\": 0, \"previously_insured\": 1, \"annual_premium\": 31974.0, \"vintage\": 262, \"response\": 0}, {\"id\": 198703, \"gender\": \"Female\", \"age\": 26, \"region_code\": 41.0, \"policy_sales_channel\": 124.0, \"driving_license\": 1, \"vehicle_age\": \"between_1_2_year\", \"vehicle_damage\": 0, \"previously_insured\": 1, \"annual_premium\": 31095.0, \"vintage\": 285, \"response\": 0}, {\"id\": 93621, \"gender\": \"Female\", \"age\": 37, \"region_code\": 48.0, \"policy_sales_channel\": 26.0, \"driving_license\": 1, \"vehicle_age\": \"between_1_2_year\", \"vehicle_damage\": 1, \"previously_insured\": 0, \"annual_premium\": 2630.0, \"vintage\": 53, \"response\": 0}, {\"id\": 314685, \"gender\": \"Female\", \"age\": 55, \"region_code\": 50.0, \"policy_sales_channel\": 31.0, \"driving_license\": 1, \"vehicle_age\": \"between_1_2_year\", \"vehicle_damage\": 1, \"previously_insured\": 0, \"annual_premium\": 2630.0, \"vintage\": 97, \"response\": 0}, {\"id\": 327795, \"gender\": \"Female\", \"age\": 78, \"region_code\": 7.0, \"policy_sales_channel\": 26.0, \"driving_license\": 1, \"vehicle_age\": \"between_1_2_year\", \"vehicle_damage\": 1, \"previously_insured\": 0, \"annual_premium\": 52327.0, \"vintage\": 119, \"response\": 0}, {\"id\": 63733, \"gender\": \"Male\", \"age\": 21, \"region_code\": 8.0, \"policy_sales_channel\": 152.0, \"driving_license\": 1, \"vehicle_age\": \"bellow_1_year\", \"vehicle_damage\": 0, \"previously_insured\": 1, \"annual_premium\": 38077.0, \"vintage\": 281, \"response\": 0}, {\"id\": 262911, \"gender\": \"Female\", \"age\": 42, \"region_code\": 39.0, \"policy_sales_channel\": 124.0, \"driving_license\": 1, \"vehicle_age\": \"between_1_2_year\", \"vehicle_damage\": 1, \"previously_insured\": 0, \"annual_premium\": 2630.0, \"vintage\": 135, \"response\": 0}, {\"id\": 330, \"gender\": \"Female\", \"age\": 52, \"region_code\": 45.0, \"policy_sales_channel\": 26.0, \"driving_license\": 1, \"vehicle_age\": \"between_1_2_year\", \"vehicle_damage\": 1, \"previously_insured\": 0, \"annual_premium\": 23918.0, \"vintage\": 265, \"response\": 0}, {\"id\": 371136, \"gender\": \"Male\", \"age\": 29, \"region_code\": 8.0, \"policy_sales_channel\": 152.0, \"driving_license\": 1, \"vehicle_age\": \"bellow_1_year\", \"vehicle_damage\": 0, \"previously_insured\": 1, \"annual_premium\": 2630.0, \"vintage\": 74, \"response\": 0}, {\"id\": 229418, \"gender\": \"Male\", \"age\": 66, \"region_code\": 18.0, \"policy_sales_channel\": 26.0, \"driving_license\": 1, \"vehicle_age\": \"between_1_2_year\", \"vehicle_damage\": 1, \"previously_insured\": 0, \"annual_premium\": 31175.0, \"vintage\": 163, \"response\": 0}, {\"id\": 234559, \"gender\": \"Male\", \"age\": 53, \"region_code\": 30.0, \"policy_sales_channel\": 29.0, \"driving_license\": 1, \"vehicle_age\": \"between_1_2_year\", \"vehicle_damage\": 1, \"previously_insured\": 0, \"annual_premium\": 24691.0, \"vintage\": 76, \"response\": 0}, {\"id\": 283350, \"gender\": \"Female\", \"age\": 47, \"region_code\": 28.0, \"policy_sales_channel\": 26.0, \"driving_license\": 1, \"vehicle_age\": \"between_1_2_year\", \"vehicle_damage\": 1, \"previously_insured\": 0, \"annual_premium\": 54565.0, \"vintage\": 24, \"response\": 1}, {\"id\": 2246, \"gender\": \"Female\", \"age\": 25, \"region_code\": 35.0, \"policy_sales_channel\": 152.0, \"driving_license\": 1, \"vehicle_age\": \"bellow_1_year\", \"vehicle_damage\": 0, \"previously_insured\": 1, \"annual_premium\": 30840.0, \"vintage\": 266, \"response\": 0}, {\"id\": 196209, \"gender\": \"Male\", \"age\": 42, \"region_code\": 29.0, \"policy_sales_channel\": 124.0, \"driving_license\": 1, \"vehicle_age\": \"between_1_2_year\", \"vehicle_damage\": 1, \"previously_insured\": 0, \"annual_premium\": 21417.0, \"vintage\": 217, \"response\": 1}, {\"id\": 276664, \"gender\": \"Male\", \"age\": 55, \"region_code\": 41.0, \"policy_sales_channel\": 12.0, \"driving_license\": 1, \"vehicle_age\": \"between_1_2_year\", \"vehicle_damage\": 1, \"previously_insured\": 0, \"annual_premium\": 27490.0, \"vintage\": 54, \"response\": 0}, {\"id\": 108507, \"gender\": \"Female\", \"age\": 53, \"region_code\": 41.0, \"policy_sales_channel\": 124.0, \"driving_license\": 1, \"vehicle_age\": \"between_1_2_year\", \"vehicle_damage\": 1, \"previously_insured\": 0, \"annual_premium\": 42303.0, \"vintage\": 107, \"response\": 0}, {\"id\": 339489, \"gender\": \"Male\", \"age\": 25, \"region_code\": 50.0, \"policy_sales_channel\": 152.0, \"driving_license\": 1, \"vehicle_age\": \"bellow_1_year\", \"vehicle_damage\": 0, \"previously_insured\": 1, \"annual_premium\": 37103.0, \"vintage\": 230, \"response\": 0}, {\"id\": 255447, \"gender\": \"Male\", \"age\": 52, \"region_code\": 28.0, \"policy_sales_channel\": 26.0, \"driving_license\": 1, \"vehicle_age\": \"over_2_years\", \"vehicle_damage\": 1, \"previously_insured\": 0, \"annual_premium\": 39472.0, \"vintage\": 175, \"response\": 0}, {\"id\": 210017, \"gender\": \"Female\", \"age\": 33, \"region_code\": 28.0, \"policy_sales_channel\": 124.0, \"driving_license\": 1, \"vehicle_age\": \"between_1_2_year\", \"vehicle_damage\": 0, \"previously_insured\": 1, \"annual_premium\": 2630.0, \"vintage\": 263, \"response\": 0}, {\"id\": 88308, \"gender\": \"Male\", \"age\": 25, \"region_code\": 18.0, \"policy_sales_channel\": 152.0, \"driving_license\": 1, \"vehicle_age\": \"bellow_1_year\", \"vehicle_damage\": 0, \"previously_insured\": 1, \"annual_premium\": 34990.0, \"vintage\": 144, \"response\": 0}, {\"id\": 282448, \"gender\": \"Female\", \"age\": 25, \"region_code\": 11.0, \"policy_sales_channel\": 152.0, \"driving_license\": 1, \"vehicle_age\": \"bellow_1_year\", \"vehicle_damage\": 1, \"previously_insured\": 0, \"annual_premium\": 47967.0, \"vintage\": 31, \"response\": 0}, {\"id\": 129640, \"gender\": \"Male\", \"age\": 60, \"region_code\": 41.0, \"policy_sales_channel\": 124.0, \"driving_license\": 1, \"vehicle_age\": \"between_1_2_year\", \"vehicle_damage\": 1, \"previously_insured\": 0, \"annual_premium\": 2630.0, \"vintage\": 53, \"response\": 0}, {\"id\": 94131, \"gender\": \"Female\", \"age\": 23, \"region_code\": 37.0, \"policy_sales_channel\": 152.0, \"driving_license\": 1, \"vehicle_age\": \"bellow_1_year\", \"vehicle_damage\": 0, \"previously_insured\": 1, \"annual_premium\": 43035.0, \"vintage\": 232, \"response\": 0}, {\"id\": 104565, \"gender\": \"Female\", \"age\": 32, \"region_code\": 33.0, \"policy_sales_channel\": 26.0, \"driving_license\": 1, \"vehicle_age\": \"bellow_1_year\", \"vehicle_damage\": 1, \"previously_insured\": 0, \"annual_premium\": 59071.0, \"vintage\": 172, \"response\": 1}, {\"id\": 165993, \"gender\": \"Male\", \"age\": 31, \"region_code\": 28.0, \"policy_sales_channel\": 124.0, \"driving_license\": 1, \"vehicle_age\": \"between_1_2_year\", \"vehicle_damage\": 1, \"previously_insured\": 0, \"annual_premium\": 109099.0, \"vintage\": 43, \"response\": 1}, {\"id\": 239289, \"gender\": \"Female\", \"age\": 46, \"region_code\": 17.0, \"policy_sales_channel\": 157.0, \"driving_license\": 1, \"vehicle_age\": \"between_1_2_year\", \"vehicle_damage\": 1, \"previously_insured\": 0, \"annual_premium\": 29164.0, \"vintage\": 46, \"response\": 1}, {\"id\": 86988, \"gender\": \"Female\", \"age\": 20, \"region_code\": 17.0, \"policy_sales_channel\": 160.0, \"driving_license\": 1, \"vehicle_age\": \"bellow_1_year\", \"vehicle_damage\": 0, \"previously_insured\": 1, \"annual_premium\": 73096.0, \"vintage\": 295, \"response\": 0}, {\"id\": 87966, \"gender\": \"Male\", \"age\": 36, \"region_code\": 19.0, \"policy_sales_channel\": 124.0, \"driving_license\": 1, \"vehicle_age\": \"between_1_2_year\", \"vehicle_damage\": 0, \"previously_insured\": 1, \"annual_premium\": 23698.0, \"vintage\": 187, \"response\": 0}, {\"id\": 59274, \"gender\": \"Female\", \"age\": 51, \"region_code\": 29.0, \"policy_sales_channel\": 124.0, \"driving_license\": 1, \"vehicle_age\": \"between_1_2_year\", \"vehicle_damage\": 0, \"previously_insured\": 1, \"annual_premium\": 40297.0, \"vintage\": 41, \"response\": 0}, {\"id\": 121233, \"gender\": \"Male\", \"age\": 48, \"region_code\": 28.0, \"policy_sales_channel\": 26.0, \"driving_license\": 1, \"vehicle_age\": \"between_1_2_year\", \"vehicle_damage\": 1, \"previously_insured\": 0, \"annual_premium\": 34495.0, \"vintage\": 167, \"response\": 0}, {\"id\": 183666, \"gender\": \"Male\", \"age\": 24, \"region_code\": 47.0, \"policy_sales_channel\": 152.0, \"driving_license\": 1, \"vehicle_age\": \"bellow_1_year\", \"vehicle_damage\": 0, \"previously_insured\": 1, \"annual_premium\": 25998.0, \"vintage\": 115, \"response\": 0}, {\"id\": 27899, \"gender\": \"Male\", \"age\": 35, \"region_code\": 26.0, \"policy_sales_channel\": 124.0, \"driving_license\": 1, \"vehicle_age\": \"between_1_2_year\", \"vehicle_damage\": 1, \"previously_insured\": 0, \"annual_premium\": 31018.0, \"vintage\": 276, \"response\": 0}, {\"id\": 357553, \"gender\": \"Female\", \"age\": 33, \"region_code\": 46.0, \"policy_sales_channel\": 156.0, \"driving_license\": 1, \"vehicle_age\": \"between_1_2_year\", \"vehicle_damage\": 1, \"previously_insured\": 1, \"annual_premium\": 2630.0, \"vintage\": 294, \"response\": 0}, {\"id\": 18852, \"gender\": \"Female\", \"age\": 45, \"region_code\": 28.0, \"policy_sales_channel\": 45.0, \"driving_license\": 1, \"vehicle_age\": \"between_1_2_year\", \"vehicle_damage\": 1, \"previously_insured\": 0, \"annual_premium\": 32269.0, \"vintage\": 198, \"response\": 0}, {\"id\": 206969, \"gender\": \"Male\", \"age\": 58, \"region_code\": 28.0, \"policy_sales_channel\": 124.0, \"driving_license\": 1, \"vehicle_age\": \"between_1_2_year\", \"vehicle_damage\": 0, \"previously_insured\": 1, \"annual_premium\": 39581.0, \"vintage\": 179, \"response\": 0}, {\"id\": 264936, \"gender\": \"Female\", \"age\": 49, \"region_code\": 28.0, \"policy_sales_channel\": 26.0, \"driving_license\": 1, \"vehicle_age\": \"between_1_2_year\", \"vehicle_damage\": 1, \"previously_insured\": 0, \"annual_premium\": 35234.0, \"vintage\": 176, \"response\": 1}, {\"id\": 82660, \"gender\": \"Male\", \"age\": 21, \"region_code\": 36.0, \"policy_sales_channel\": 160.0, \"driving_license\": 1, \"vehicle_age\": \"bellow_1_year\", \"vehicle_damage\": 1, \"previously_insured\": 0, \"annual_premium\": 31533.0, \"vintage\": 115, \"response\": 0}, {\"id\": 302491, \"gender\": \"Male\", \"age\": 50, \"region_code\": 8.0, \"policy_sales_channel\": 124.0, \"driving_license\": 1, \"vehicle_age\": \"between_1_2_year\", \"vehicle_damage\": 0, \"previously_insured\": 1, \"annual_premium\": 32001.0, \"vintage\": 31, \"response\": 0}, {\"id\": 78702, \"gender\": \"Female\", \"age\": 25, \"region_code\": 15.0, \"policy_sales_channel\": 26.0, \"driving_license\": 1, \"vehicle_age\": \"bellow_1_year\", \"vehicle_damage\": 1, \"previously_insured\": 0, \"annual_premium\": 44433.0, \"vintage\": 191, \"response\": 0}, {\"id\": 231215, \"gender\": \"Male\", \"age\": 25, \"region_code\": 30.0, \"policy_sales_channel\": 152.0, \"driving_license\": 1, \"vehicle_age\": \"bellow_1_year\", \"vehicle_damage\": 0, \"previously_insured\": 1, \"annual_premium\": 24454.0, \"vintage\": 211, \"response\": 0}, {\"id\": 264500, \"gender\": \"Female\", \"age\": 67, \"region_code\": 46.0, \"policy_sales_channel\": 11.0, \"driving_license\": 1, \"vehicle_age\": \"between_1_2_year\", \"vehicle_damage\": 1, \"previously_insured\": 0, \"annual_premium\": 2630.0, \"vintage\": 260, \"response\": 1}, {\"id\": 375785, \"gender\": \"Male\", \"age\": 35, \"region_code\": 28.0, \"policy_sales_channel\": 163.0, \"driving_license\": 1, \"vehicle_age\": \"between_1_2_year\", \"vehicle_damage\": 0, \"previously_insured\": 1, \"annual_premium\": 43541.0, \"vintage\": 92, \"response\": 0}, {\"id\": 294142, \"gender\": \"Female\", \"age\": 24, \"region_code\": 3.0, \"policy_sales_channel\": 152.0, \"driving_license\": 1, \"vehicle_age\": \"bellow_1_year\", \"vehicle_damage\": 1, \"previously_insured\": 0, \"annual_premium\": 29526.0, \"vintage\": 163, \"response\": 1}, {\"id\": 229102, \"gender\": \"Male\", \"age\": 28, \"region_code\": 28.0, \"policy_sales_channel\": 151.0, \"driving_license\": 1, \"vehicle_age\": \"bellow_1_year\", \"vehicle_damage\": 0, \"previously_insured\": 1, \"annual_premium\": 2630.0, \"vintage\": 159, \"response\": 0}, {\"id\": 3985, \"gender\": \"Female\", \"age\": 20, \"region_code\": 27.0, \"policy_sales_channel\": 160.0, \"driving_license\": 1, \"vehicle_age\": \"bellow_1_year\", \"vehicle_damage\": 1, \"previously_insured\": 1, \"annual_premium\": 2630.0, \"vintage\": 228, \"response\": 0}]'"
      ]
     },
     "execution_count": 68,
     "metadata": {},
     "output_type": "execute_result"
    }
   ],
   "source": [
    "data"
   ]
  },
  {
   "cell_type": "code",
   "execution_count": 73,
   "id": "d8e841f0",
   "metadata": {
    "ExecuteTime": {
     "end_time": "2022-07-21T00:55:08.121883Z",
     "start_time": "2022-07-21T00:55:07.259011Z"
    }
   },
   "outputs": [
    {
     "name": "stdout",
     "output_type": "stream",
     "text": [
      "Status_code 200\n"
     ]
    }
   ],
   "source": [
    "# api call\n",
    "url = 'https://health-predict-lg.herokuapp.com/predict'\n",
    "header = {'Content-type': 'application/json'}\n",
    "\n",
    "r = requests.post(url, data=data, headers=header)\n",
    "print('Status_code {}'.format(r.status_code))"
   ]
  },
  {
   "cell_type": "code",
   "execution_count": 70,
   "id": "1e9b095e",
   "metadata": {
    "ExecuteTime": {
     "end_time": "2022-07-21T00:29:30.551401Z",
     "start_time": "2022-07-21T00:29:30.525710Z"
    },
    "scrolled": true
   },
   "outputs": [
    {
     "data": {
      "text/plain": [
       "[{'id': 178019,\n",
       "  'gender': 0.1384110748,\n",
       "  'age': 58.0,\n",
       "  'region_code': 0.1871634638,\n",
       "  'policy_sales_channel': 26.0,\n",
       "  'driving_license': 1,\n",
       "  'vehicle_age': 'bellow_1_year',\n",
       "  'vehicle_damage': 0,\n",
       "  'previously_insured': 0,\n",
       "  'annual_premium': 2630.0,\n",
       "  'vintage': 250.0,\n",
       "  'response': 0,\n",
       "  'prediction': 0.0085724671},\n",
       " {'id': 178307,\n",
       "  'gender': 0.1384110748,\n",
       "  'age': 35.0,\n",
       "  'region_code': 0.1871634638,\n",
       "  'policy_sales_channel': 122.0,\n",
       "  'driving_license': 1,\n",
       "  'vehicle_age': 'bellow_1_year',\n",
       "  'vehicle_damage': 0,\n",
       "  'previously_insured': 0,\n",
       "  'annual_premium': 62877.0,\n",
       "  'vintage': 37.0,\n",
       "  'response': 0,\n",
       "  'prediction': 0.0108170946},\n",
       " {'id': 90324,\n",
       "  'gender': 0.1384110748,\n",
       "  'age': 26.0,\n",
       "  'region_code': 0.121776269,\n",
       "  'policy_sales_channel': 152.0,\n",
       "  'driving_license': 1,\n",
       "  'vehicle_age': 'bellow_1_year',\n",
       "  'vehicle_damage': 0,\n",
       "  'previously_insured': 1,\n",
       "  'annual_premium': 31544.0,\n",
       "  'vintage': 210.0,\n",
       "  'response': 0,\n",
       "  'prediction': 0.0003456216},\n",
       " {'id': 152311,\n",
       "  'gender': 0.1384110748,\n",
       "  'age': 31.0,\n",
       "  'region_code': 0.0901883053,\n",
       "  'policy_sales_channel': 124.0,\n",
       "  'driving_license': 1,\n",
       "  'vehicle_age': 'bellow_1_year',\n",
       "  'vehicle_damage': 0,\n",
       "  'previously_insured': 0,\n",
       "  'annual_premium': 26694.0,\n",
       "  'vintage': 192.0,\n",
       "  'response': 0,\n",
       "  'prediction': 0.0075807383},\n",
       " {'id': 313831,\n",
       "  'gender': 0.1039024112,\n",
       "  'age': 46.0,\n",
       "  'region_code': 0.1028912856,\n",
       "  'policy_sales_channel': 26.0,\n",
       "  'driving_license': 1,\n",
       "  'vehicle_age': 'bellow_1_year',\n",
       "  'vehicle_damage': 0,\n",
       "  'previously_insured': 0,\n",
       "  'annual_premium': 30886.0,\n",
       "  'vintage': 11.0,\n",
       "  'response': 0,\n",
       "  'prediction': 0.0080618463},\n",
       " {'id': 261799,\n",
       "  'gender': 0.1039024112,\n",
       "  'age': 34.0,\n",
       "  'region_code': 0.0719867749,\n",
       "  'policy_sales_channel': 152.0,\n",
       "  'driving_license': 1,\n",
       "  'vehicle_age': 'bellow_1_year',\n",
       "  'vehicle_damage': 0,\n",
       "  'previously_insured': 1,\n",
       "  'annual_premium': 31974.0,\n",
       "  'vintage': 262.0,\n",
       "  'response': 0,\n",
       "  'prediction': 0.0002523613},\n",
       " {'id': 198703,\n",
       "  'gender': 0.1039024112,\n",
       "  'age': 26.0,\n",
       "  'region_code': 0.121776269,\n",
       "  'policy_sales_channel': 124.0,\n",
       "  'driving_license': 1,\n",
       "  'vehicle_age': 'bellow_1_year',\n",
       "  'vehicle_damage': 0,\n",
       "  'previously_insured': 1,\n",
       "  'annual_premium': 31095.0,\n",
       "  'vintage': 285.0,\n",
       "  'response': 0,\n",
       "  'prediction': 0.0003245228},\n",
       " {'id': 93621,\n",
       "  'gender': 0.1039024112,\n",
       "  'age': 37.0,\n",
       "  'region_code': 0.1019013031,\n",
       "  'policy_sales_channel': 26.0,\n",
       "  'driving_license': 1,\n",
       "  'vehicle_age': 'bellow_1_year',\n",
       "  'vehicle_damage': 0,\n",
       "  'previously_insured': 0,\n",
       "  'annual_premium': 2630.0,\n",
       "  'vintage': 53.0,\n",
       "  'response': 0,\n",
       "  'prediction': 0.0080618463},\n",
       " {'id': 314685,\n",
       "  'gender': 0.1039024112,\n",
       "  'age': 55.0,\n",
       "  'region_code': 0.0626769501,\n",
       "  'policy_sales_channel': 31.0,\n",
       "  'driving_license': 1,\n",
       "  'vehicle_age': 'bellow_1_year',\n",
       "  'vehicle_damage': 0,\n",
       "  'previously_insured': 0,\n",
       "  'annual_premium': 2630.0,\n",
       "  'vintage': 97.0,\n",
       "  'response': 0,\n",
       "  'prediction': 0.0069392866},\n",
       " {'id': 327795,\n",
       "  'gender': 0.1039024112,\n",
       "  'age': 78.0,\n",
       "  'region_code': 0.131747484,\n",
       "  'policy_sales_channel': 26.0,\n",
       "  'driving_license': 1,\n",
       "  'vehicle_age': 'bellow_1_year',\n",
       "  'vehicle_damage': 0,\n",
       "  'previously_insured': 0,\n",
       "  'annual_premium': 52327.0,\n",
       "  'vintage': 119.0,\n",
       "  'response': 0,\n",
       "  'prediction': 0.0088085247},\n",
       " {'id': 63733,\n",
       "  'gender': 0.1384110748,\n",
       "  'age': 21.0,\n",
       "  'region_code': 0.0961419252,\n",
       "  'policy_sales_channel': 152.0,\n",
       "  'driving_license': 1,\n",
       "  'vehicle_age': 'bellow_1_year',\n",
       "  'vehicle_damage': 0,\n",
       "  'previously_insured': 1,\n",
       "  'annual_premium': 38077.0,\n",
       "  'vintage': 281.0,\n",
       "  'response': 0,\n",
       "  'prediction': 0.0002388795},\n",
       " {'id': 262911,\n",
       "  'gender': 0.1039024112,\n",
       "  'age': 42.0,\n",
       "  'region_code': 0.1236003445,\n",
       "  'policy_sales_channel': 124.0,\n",
       "  'driving_license': 1,\n",
       "  'vehicle_age': 'bellow_1_year',\n",
       "  'vehicle_damage': 0,\n",
       "  'previously_insured': 0,\n",
       "  'annual_premium': 2630.0,\n",
       "  'vintage': 135.0,\n",
       "  'response': 0,\n",
       "  'prediction': 0.0076600696},\n",
       " {'id': 330,\n",
       "  'gender': 0.1039024112,\n",
       "  'age': 52.0,\n",
       "  'region_code': 0.1097234612,\n",
       "  'policy_sales_channel': 26.0,\n",
       "  'driving_license': 1,\n",
       "  'vehicle_age': 'bellow_1_year',\n",
       "  'vehicle_damage': 0,\n",
       "  'previously_insured': 0,\n",
       "  'annual_premium': 23918.0,\n",
       "  'vintage': 265.0,\n",
       "  'response': 0,\n",
       "  'prediction': 0.008697594},\n",
       " {'id': 371136,\n",
       "  'gender': 0.1384110748,\n",
       "  'age': 29.0,\n",
       "  'region_code': 0.0961419252,\n",
       "  'policy_sales_channel': 152.0,\n",
       "  'driving_license': 1,\n",
       "  'vehicle_age': 'bellow_1_year',\n",
       "  'vehicle_damage': 0,\n",
       "  'previously_insured': 1,\n",
       "  'annual_premium': 2630.0,\n",
       "  'vintage': 74.0,\n",
       "  'response': 0,\n",
       "  'prediction': 0.0002388795},\n",
       " {'id': 229418,\n",
       "  'gender': 0.1384110748,\n",
       "  'age': 66.0,\n",
       "  'region_code': 0.1315738405,\n",
       "  'policy_sales_channel': 26.0,\n",
       "  'driving_license': 1,\n",
       "  'vehicle_age': 'bellow_1_year',\n",
       "  'vehicle_damage': 0,\n",
       "  'previously_insured': 0,\n",
       "  'annual_premium': 31175.0,\n",
       "  'vintage': 163.0,\n",
       "  'response': 0,\n",
       "  'prediction': 0.0088085247},\n",
       " {'id': 234559,\n",
       "  'gender': 0.1384110748,\n",
       "  'age': 53.0,\n",
       "  'region_code': 0.0738249528,\n",
       "  'policy_sales_channel': 29.0,\n",
       "  'driving_license': 1,\n",
       "  'vehicle_age': 'bellow_1_year',\n",
       "  'vehicle_damage': 0,\n",
       "  'previously_insured': 0,\n",
       "  'annual_premium': 24691.0,\n",
       "  'vintage': 76.0,\n",
       "  'response': 0,\n",
       "  'prediction': 0.0095363955},\n",
       " {'id': 283350,\n",
       "  'gender': 0.1039024112,\n",
       "  'age': 47.0,\n",
       "  'region_code': 0.1871634638,\n",
       "  'policy_sales_channel': 26.0,\n",
       "  'driving_license': 1,\n",
       "  'vehicle_age': 'bellow_1_year',\n",
       "  'vehicle_damage': 0,\n",
       "  'previously_insured': 0,\n",
       "  'annual_premium': 54565.0,\n",
       "  'vintage': 24.0,\n",
       "  'response': 1,\n",
       "  'prediction': 0.0085724671},\n",
       " {'id': 2246,\n",
       "  'gender': 0.1039024112,\n",
       "  'age': 25.0,\n",
       "  'region_code': 0.1246038606,\n",
       "  'policy_sales_channel': 152.0,\n",
       "  'driving_license': 1,\n",
       "  'vehicle_age': 'bellow_1_year',\n",
       "  'vehicle_damage': 0,\n",
       "  'previously_insured': 1,\n",
       "  'annual_premium': 30840.0,\n",
       "  'vintage': 266.0,\n",
       "  'response': 0,\n",
       "  'prediction': 0.0003400855},\n",
       " {'id': 196209,\n",
       "  'gender': 0.1384110748,\n",
       "  'age': 42.0,\n",
       "  'region_code': 0.1233619521,\n",
       "  'policy_sales_channel': 124.0,\n",
       "  'driving_license': 1,\n",
       "  'vehicle_age': 'bellow_1_year',\n",
       "  'vehicle_damage': 0,\n",
       "  'previously_insured': 0,\n",
       "  'annual_premium': 21417.0,\n",
       "  'vintage': 217.0,\n",
       "  'response': 1,\n",
       "  'prediction': 0.0076600696},\n",
       " {'id': 276664,\n",
       "  'gender': 0.1384110748,\n",
       "  'age': 55.0,\n",
       "  'region_code': 0.121776269,\n",
       "  'policy_sales_channel': 12.0,\n",
       "  'driving_license': 1,\n",
       "  'vehicle_age': 'bellow_1_year',\n",
       "  'vehicle_damage': 0,\n",
       "  'previously_insured': 0,\n",
       "  'annual_premium': 27490.0,\n",
       "  'vintage': 54.0,\n",
       "  'response': 0,\n",
       "  'prediction': 0.0068279243},\n",
       " {'id': 108507,\n",
       "  'gender': 0.1039024112,\n",
       "  'age': 53.0,\n",
       "  'region_code': 0.121776269,\n",
       "  'policy_sales_channel': 124.0,\n",
       "  'driving_license': 1,\n",
       "  'vehicle_age': 'bellow_1_year',\n",
       "  'vehicle_damage': 0,\n",
       "  'previously_insured': 0,\n",
       "  'annual_premium': 42303.0,\n",
       "  'vintage': 107.0,\n",
       "  'response': 0,\n",
       "  'prediction': 0.0076600696},\n",
       " {'id': 339489,\n",
       "  'gender': 0.1384110748,\n",
       "  'age': 25.0,\n",
       "  'region_code': 0.0626769501,\n",
       "  'policy_sales_channel': 152.0,\n",
       "  'driving_license': 1,\n",
       "  'vehicle_age': 'bellow_1_year',\n",
       "  'vehicle_damage': 0,\n",
       "  'previously_insured': 1,\n",
       "  'annual_premium': 37103.0,\n",
       "  'vintage': 230.0,\n",
       "  'response': 0,\n",
       "  'prediction': 0.0002523613},\n",
       " {'id': 255447,\n",
       "  'gender': 0.1384110748,\n",
       "  'age': 52.0,\n",
       "  'region_code': 0.1871634638,\n",
       "  'policy_sales_channel': 26.0,\n",
       "  'driving_license': 1,\n",
       "  'vehicle_age': 'bellow_1_year',\n",
       "  'vehicle_damage': 0,\n",
       "  'previously_insured': 0,\n",
       "  'annual_premium': 39472.0,\n",
       "  'vintage': 175.0,\n",
       "  'response': 0,\n",
       "  'prediction': 0.0085724671},\n",
       " {'id': 210017,\n",
       "  'gender': 0.1039024112,\n",
       "  'age': 33.0,\n",
       "  'region_code': 0.1871634638,\n",
       "  'policy_sales_channel': 124.0,\n",
       "  'driving_license': 1,\n",
       "  'vehicle_age': 'bellow_1_year',\n",
       "  'vehicle_damage': 0,\n",
       "  'previously_insured': 1,\n",
       "  'annual_premium': 2630.0,\n",
       "  'vintage': 263.0,\n",
       "  'response': 0,\n",
       "  'prediction': 0.0003651465},\n",
       " {'id': 88308,\n",
       "  'gender': 0.1384110748,\n",
       "  'age': 25.0,\n",
       "  'region_code': 0.1315738405,\n",
       "  'policy_sales_channel': 152.0,\n",
       "  'driving_license': 1,\n",
       "  'vehicle_age': 'bellow_1_year',\n",
       "  'vehicle_damage': 0,\n",
       "  'previously_insured': 1,\n",
       "  'annual_premium': 34990.0,\n",
       "  'vintage': 144.0,\n",
       "  'response': 0,\n",
       "  'prediction': 0.0003888856},\n",
       " {'id': 282448,\n",
       "  'gender': 0.1039024112,\n",
       "  'age': 25.0,\n",
       "  'region_code': 0.1127599653,\n",
       "  'policy_sales_channel': 152.0,\n",
       "  'driving_license': 1,\n",
       "  'vehicle_age': 'bellow_1_year',\n",
       "  'vehicle_damage': 0,\n",
       "  'previously_insured': 0,\n",
       "  'annual_premium': 47967.0,\n",
       "  'vintage': 31.0,\n",
       "  'response': 0,\n",
       "  'prediction': 0.0055347868},\n",
       " {'id': 129640,\n",
       "  'gender': 0.1384110748,\n",
       "  'age': 60.0,\n",
       "  'region_code': 0.121776269,\n",
       "  'policy_sales_channel': 124.0,\n",
       "  'driving_license': 1,\n",
       "  'vehicle_age': 'bellow_1_year',\n",
       "  'vehicle_damage': 0,\n",
       "  'previously_insured': 0,\n",
       "  'annual_premium': 2630.0,\n",
       "  'vintage': 53.0,\n",
       "  'response': 0,\n",
       "  'prediction': 0.0076600696},\n",
       " {'id': 94131,\n",
       "  'gender': 0.1039024112,\n",
       "  'age': 23.0,\n",
       "  'region_code': 0.0792583167,\n",
       "  'policy_sales_channel': 152.0,\n",
       "  'driving_license': 1,\n",
       "  'vehicle_age': 'bellow_1_year',\n",
       "  'vehicle_damage': 0,\n",
       "  'previously_insured': 1,\n",
       "  'annual_premium': 43035.0,\n",
       "  'vintage': 232.0,\n",
       "  'response': 0,\n",
       "  'prediction': 0.00025974},\n",
       " {'id': 104565,\n",
       "  'gender': 0.1039024112,\n",
       "  'age': 32.0,\n",
       "  'region_code': 0.0992944865,\n",
       "  'policy_sales_channel': 26.0,\n",
       "  'driving_license': 1,\n",
       "  'vehicle_age': 'bellow_1_year',\n",
       "  'vehicle_damage': 0,\n",
       "  'previously_insured': 0,\n",
       "  'annual_premium': 59071.0,\n",
       "  'vintage': 172.0,\n",
       "  'response': 1,\n",
       "  'prediction': 0.0077335768},\n",
       " {'id': 165993,\n",
       "  'gender': 0.1384110748,\n",
       "  'age': 31.0,\n",
       "  'region_code': 0.1871634638,\n",
       "  'policy_sales_channel': 124.0,\n",
       "  'driving_license': 1,\n",
       "  'vehicle_age': 'bellow_1_year',\n",
       "  'vehicle_damage': 0,\n",
       "  'previously_insured': 0,\n",
       "  'annual_premium': 109099.0,\n",
       "  'vintage': 43.0,\n",
       "  'response': 1,\n",
       "  'prediction': 0.0076948051},\n",
       " {'id': 239289,\n",
       "  'gender': 0.1039024112,\n",
       "  'age': 46.0,\n",
       "  'region_code': 0.0703095147,\n",
       "  'policy_sales_channel': 157.0,\n",
       "  'driving_license': 1,\n",
       "  'vehicle_age': 'bellow_1_year',\n",
       "  'vehicle_damage': 0,\n",
       "  'previously_insured': 0,\n",
       "  'annual_premium': 29164.0,\n",
       "  'vintage': 46.0,\n",
       "  'response': 1,\n",
       "  'prediction': 0.0160245151},\n",
       " {'id': 86988,\n",
       "  'gender': 0.1039024112,\n",
       "  'age': 20.0,\n",
       "  'region_code': 0.0703095147,\n",
       "  'policy_sales_channel': 160.0,\n",
       "  'driving_license': 1,\n",
       "  'vehicle_age': 'bellow_1_year',\n",
       "  'vehicle_damage': 0,\n",
       "  'previously_insured': 1,\n",
       "  'annual_premium': 73096.0,\n",
       "  'vintage': 295.0,\n",
       "  'response': 0,\n",
       "  'prediction': 0.0003430768},\n",
       " {'id': 87966,\n",
       "  'gender': 0.1384110748,\n",
       "  'age': 36.0,\n",
       "  'region_code': 0.1628664495,\n",
       "  'policy_sales_channel': 124.0,\n",
       "  'driving_license': 1,\n",
       "  'vehicle_age': 'bellow_1_year',\n",
       "  'vehicle_damage': 0,\n",
       "  'previously_insured': 1,\n",
       "  'annual_premium': 23698.0,\n",
       "  'vintage': 187.0,\n",
       "  'response': 0,\n",
       "  'prediction': 0.0003651465},\n",
       " {'id': 59274,\n",
       "  'gender': 0.1039024112,\n",
       "  'age': 51.0,\n",
       "  'region_code': 0.1233619521,\n",
       "  'policy_sales_channel': 124.0,\n",
       "  'driving_license': 1,\n",
       "  'vehicle_age': 'bellow_1_year',\n",
       "  'vehicle_damage': 0,\n",
       "  'previously_insured': 1,\n",
       "  'annual_premium': 40297.0,\n",
       "  'vintage': 41.0,\n",
       "  'response': 0,\n",
       "  'prediction': 0.0003245228},\n",
       " {'id': 121233,\n",
       "  'gender': 0.1384110748,\n",
       "  'age': 48.0,\n",
       "  'region_code': 0.1871634638,\n",
       "  'policy_sales_channel': 26.0,\n",
       "  'driving_license': 1,\n",
       "  'vehicle_age': 'bellow_1_year',\n",
       "  'vehicle_damage': 0,\n",
       "  'previously_insured': 0,\n",
       "  'annual_premium': 34495.0,\n",
       "  'vintage': 167.0,\n",
       "  'response': 0,\n",
       "  'prediction': 0.0085724671},\n",
       " {'id': 183666,\n",
       "  'gender': 0.1384110748,\n",
       "  'age': 24.0,\n",
       "  'region_code': 0.0876815492,\n",
       "  'policy_sales_channel': 152.0,\n",
       "  'driving_license': 1,\n",
       "  'vehicle_age': 'bellow_1_year',\n",
       "  'vehicle_damage': 0,\n",
       "  'previously_insured': 1,\n",
       "  'annual_premium': 25998.0,\n",
       "  'vintage': 115.0,\n",
       "  'response': 0,\n",
       "  'prediction': 0.00025974},\n",
       " {'id': 27899,\n",
       "  'gender': 0.1384110748,\n",
       "  'age': 35.0,\n",
       "  'region_code': 0.0722844994,\n",
       "  'policy_sales_channel': 124.0,\n",
       "  'driving_license': 1,\n",
       "  'vehicle_age': 'bellow_1_year',\n",
       "  'vehicle_damage': 0,\n",
       "  'previously_insured': 0,\n",
       "  'annual_premium': 31018.0,\n",
       "  'vintage': 276.0,\n",
       "  'response': 0,\n",
       "  'prediction': 0.0095116951},\n",
       " {'id': 357553,\n",
       "  'gender': 0.1039024112,\n",
       "  'age': 33.0,\n",
       "  'region_code': 0.1028912856,\n",
       "  'policy_sales_channel': 156.0,\n",
       "  'driving_license': 1,\n",
       "  'vehicle_age': 'bellow_1_year',\n",
       "  'vehicle_damage': 0,\n",
       "  'previously_insured': 1,\n",
       "  'annual_premium': 2630.0,\n",
       "  'vintage': 294.0,\n",
       "  'response': 0,\n",
       "  'prediction': 0.0007734179},\n",
       " {'id': 18852,\n",
       "  'gender': 0.1039024112,\n",
       "  'age': 45.0,\n",
       "  'region_code': 0.1871634638,\n",
       "  'policy_sales_channel': 45.0,\n",
       "  'driving_license': 1,\n",
       "  'vehicle_age': 'bellow_1_year',\n",
       "  'vehicle_damage': 0,\n",
       "  'previously_insured': 0,\n",
       "  'annual_premium': 32269.0,\n",
       "  'vintage': 198.0,\n",
       "  'response': 0,\n",
       "  'prediction': 0.0082761504},\n",
       " {'id': 206969,\n",
       "  'gender': 0.1384110748,\n",
       "  'age': 58.0,\n",
       "  'region_code': 0.1871634638,\n",
       "  'policy_sales_channel': 124.0,\n",
       "  'driving_license': 1,\n",
       "  'vehicle_age': 'bellow_1_year',\n",
       "  'vehicle_damage': 0,\n",
       "  'previously_insured': 1,\n",
       "  'annual_premium': 39581.0,\n",
       "  'vintage': 179.0,\n",
       "  'response': 0,\n",
       "  'prediction': 0.0003651465},\n",
       " {'id': 264936,\n",
       "  'gender': 0.1039024112,\n",
       "  'age': 49.0,\n",
       "  'region_code': 0.1871634638,\n",
       "  'policy_sales_channel': 26.0,\n",
       "  'driving_license': 1,\n",
       "  'vehicle_age': 'bellow_1_year',\n",
       "  'vehicle_damage': 0,\n",
       "  'previously_insured': 0,\n",
       "  'annual_premium': 35234.0,\n",
       "  'vintage': 176.0,\n",
       "  'response': 1,\n",
       "  'prediction': 0.0085724671},\n",
       " {'id': 82660,\n",
       "  'gender': 0.1384110748,\n",
       "  'age': 21.0,\n",
       "  'region_code': 0.0799136069,\n",
       "  'policy_sales_channel': 160.0,\n",
       "  'driving_license': 1,\n",
       "  'vehicle_age': 'bellow_1_year',\n",
       "  'vehicle_damage': 0,\n",
       "  'previously_insured': 0,\n",
       "  'annual_premium': 31533.0,\n",
       "  'vintage': 115.0,\n",
       "  'response': 0,\n",
       "  'prediction': 0.0066842989},\n",
       " {'id': 302491,\n",
       "  'gender': 0.1384110748,\n",
       "  'age': 50.0,\n",
       "  'region_code': 0.0961419252,\n",
       "  'policy_sales_channel': 124.0,\n",
       "  'driving_license': 1,\n",
       "  'vehicle_age': 'bellow_1_year',\n",
       "  'vehicle_damage': 0,\n",
       "  'previously_insured': 1,\n",
       "  'annual_premium': 32001.0,\n",
       "  'vintage': 31.0,\n",
       "  'response': 0,\n",
       "  'prediction': 0.0002984914},\n",
       " {'id': 78702,\n",
       "  'gender': 0.1039024112,\n",
       "  'age': 25.0,\n",
       "  'region_code': 0.0719867749,\n",
       "  'policy_sales_channel': 26.0,\n",
       "  'driving_license': 1,\n",
       "  'vehicle_age': 'bellow_1_year',\n",
       "  'vehicle_damage': 0,\n",
       "  'previously_insured': 0,\n",
       "  'annual_premium': 44433.0,\n",
       "  'vintage': 191.0,\n",
       "  'response': 0,\n",
       "  'prediction': 0.0085728729},\n",
       " {'id': 231215,\n",
       "  'gender': 0.1384110748,\n",
       "  'age': 25.0,\n",
       "  'region_code': 0.0738249528,\n",
       "  'policy_sales_channel': 152.0,\n",
       "  'driving_license': 1,\n",
       "  'vehicle_age': 'bellow_1_year',\n",
       "  'vehicle_damage': 0,\n",
       "  'previously_insured': 1,\n",
       "  'annual_premium': 24454.0,\n",
       "  'vintage': 211.0,\n",
       "  'response': 0,\n",
       "  'prediction': 0.00025974},\n",
       " {'id': 264500,\n",
       "  'gender': 0.1039024112,\n",
       "  'age': 67.0,\n",
       "  'region_code': 0.1028912856,\n",
       "  'policy_sales_channel': 11.0,\n",
       "  'driving_license': 1,\n",
       "  'vehicle_age': 'bellow_1_year',\n",
       "  'vehicle_damage': 0,\n",
       "  'previously_insured': 0,\n",
       "  'annual_premium': 2630.0,\n",
       "  'vintage': 260.0,\n",
       "  'response': 1,\n",
       "  'prediction': 0.0066458259},\n",
       " {'id': 375785,\n",
       "  'gender': 0.1384110748,\n",
       "  'age': 35.0,\n",
       "  'region_code': 0.1871634638,\n",
       "  'policy_sales_channel': 163.0,\n",
       "  'driving_license': 1,\n",
       "  'vehicle_age': 'bellow_1_year',\n",
       "  'vehicle_damage': 0,\n",
       "  'previously_insured': 1,\n",
       "  'annual_premium': 43541.0,\n",
       "  'vintage': 92.0,\n",
       "  'response': 0,\n",
       "  'prediction': 0.0007613501},\n",
       " {'id': 294142,\n",
       "  'gender': 0.1039024112,\n",
       "  'age': 24.0,\n",
       "  'region_code': 0.1276618744,\n",
       "  'policy_sales_channel': 152.0,\n",
       "  'driving_license': 1,\n",
       "  'vehicle_age': 'bellow_1_year',\n",
       "  'vehicle_damage': 0,\n",
       "  'previously_insured': 0,\n",
       "  'annual_premium': 29526.0,\n",
       "  'vintage': 163.0,\n",
       "  'response': 1,\n",
       "  'prediction': 0.00600997},\n",
       " {'id': 229102,\n",
       "  'gender': 0.1384110748,\n",
       "  'age': 28.0,\n",
       "  'region_code': 0.1871634638,\n",
       "  'policy_sales_channel': 151.0,\n",
       "  'driving_license': 1,\n",
       "  'vehicle_age': 'bellow_1_year',\n",
       "  'vehicle_damage': 0,\n",
       "  'previously_insured': 1,\n",
       "  'annual_premium': 2630.0,\n",
       "  'vintage': 159.0,\n",
       "  'response': 0,\n",
       "  'prediction': 0.0006496841},\n",
       " {'id': 3985,\n",
       "  'gender': 0.1039024112,\n",
       "  'age': 20.0,\n",
       "  'region_code': 0.0740347148,\n",
       "  'policy_sales_channel': 160.0,\n",
       "  'driving_license': 1,\n",
       "  'vehicle_age': 'bellow_1_year',\n",
       "  'vehicle_damage': 0,\n",
       "  'previously_insured': 1,\n",
       "  'annual_premium': 2630.0,\n",
       "  'vintage': 228.0,\n",
       "  'response': 0,\n",
       "  'prediction': 0.0003430768}]"
      ]
     },
     "execution_count": 70,
     "metadata": {},
     "output_type": "execute_result"
    }
   ],
   "source": [
    "r.json()"
   ]
  },
  {
   "cell_type": "code",
   "execution_count": 36,
   "id": "b55c7627",
   "metadata": {
    "ExecuteTime": {
     "end_time": "2022-07-21T00:22:23.520478Z",
     "start_time": "2022-07-21T00:22:23.510159Z"
    },
    "scrolled": true
   },
   "outputs": [
    {
     "data": {
      "text/html": [
       "<div>\n",
       "<style scoped>\n",
       "    .dataframe tbody tr th:only-of-type {\n",
       "        vertical-align: middle;\n",
       "    }\n",
       "\n",
       "    .dataframe tbody tr th {\n",
       "        vertical-align: top;\n",
       "    }\n",
       "\n",
       "    .dataframe thead th {\n",
       "        text-align: right;\n",
       "    }\n",
       "</style>\n",
       "<table border=\"1\" class=\"dataframe\">\n",
       "  <thead>\n",
       "    <tr style=\"text-align: right;\">\n",
       "      <th></th>\n",
       "      <th>id</th>\n",
       "      <th>gender</th>\n",
       "      <th>age</th>\n",
       "      <th>region_code</th>\n",
       "      <th>policy_sales_channel</th>\n",
       "      <th>driving_license</th>\n",
       "      <th>vehicle_age</th>\n",
       "      <th>vehicle_damage</th>\n",
       "      <th>previously_insured</th>\n",
       "      <th>annual_premium</th>\n",
       "      <th>vintage</th>\n",
       "      <th>response</th>\n",
       "    </tr>\n",
       "  </thead>\n",
       "  <tbody>\n",
       "    <tr>\n",
       "      <th>0</th>\n",
       "      <td>7</td>\n",
       "      <td>Male</td>\n",
       "      <td>23</td>\n",
       "      <td>11.00000</td>\n",
       "      <td>152.00000</td>\n",
       "      <td>1</td>\n",
       "      <td>bellow_1_year</td>\n",
       "      <td>1</td>\n",
       "      <td>0</td>\n",
       "      <td>23367.00000</td>\n",
       "      <td>249</td>\n",
       "      <td>0</td>\n",
       "    </tr>\n",
       "    <tr>\n",
       "      <th>1</th>\n",
       "      <td>13</td>\n",
       "      <td>Female</td>\n",
       "      <td>41</td>\n",
       "      <td>15.00000</td>\n",
       "      <td>14.00000</td>\n",
       "      <td>1</td>\n",
       "      <td>between_1_2_year</td>\n",
       "      <td>0</td>\n",
       "      <td>1</td>\n",
       "      <td>31409.00000</td>\n",
       "      <td>221</td>\n",
       "      <td>0</td>\n",
       "    </tr>\n",
       "    <tr>\n",
       "      <th>2</th>\n",
       "      <td>18</td>\n",
       "      <td>Female</td>\n",
       "      <td>25</td>\n",
       "      <td>35.00000</td>\n",
       "      <td>152.00000</td>\n",
       "      <td>1</td>\n",
       "      <td>bellow_1_year</td>\n",
       "      <td>0</td>\n",
       "      <td>1</td>\n",
       "      <td>46622.00000</td>\n",
       "      <td>299</td>\n",
       "      <td>0</td>\n",
       "    </tr>\n",
       "    <tr>\n",
       "      <th>3</th>\n",
       "      <td>31</td>\n",
       "      <td>Female</td>\n",
       "      <td>26</td>\n",
       "      <td>8.00000</td>\n",
       "      <td>160.00000</td>\n",
       "      <td>1</td>\n",
       "      <td>bellow_1_year</td>\n",
       "      <td>0</td>\n",
       "      <td>0</td>\n",
       "      <td>2630.00000</td>\n",
       "      <td>136</td>\n",
       "      <td>0</td>\n",
       "    </tr>\n",
       "    <tr>\n",
       "      <th>4</th>\n",
       "      <td>39</td>\n",
       "      <td>Male</td>\n",
       "      <td>45</td>\n",
       "      <td>8.00000</td>\n",
       "      <td>124.00000</td>\n",
       "      <td>1</td>\n",
       "      <td>between_1_2_year</td>\n",
       "      <td>1</td>\n",
       "      <td>0</td>\n",
       "      <td>42297.00000</td>\n",
       "      <td>264</td>\n",
       "      <td>0</td>\n",
       "    </tr>\n",
       "  </tbody>\n",
       "</table>\n",
       "</div>"
      ],
      "text/plain": [
       "   id  gender  age  region_code  policy_sales_channel  driving_license       vehicle_age  vehicle_damage  previously_insured  annual_premium  vintage  response\n",
       "0   7    Male   23     11.00000             152.00000                1     bellow_1_year               1                   0     23367.00000      249         0\n",
       "1  13  Female   41     15.00000              14.00000                1  between_1_2_year               0                   1     31409.00000      221         0\n",
       "2  18  Female   25     35.00000             152.00000                1     bellow_1_year               0                   1     46622.00000      299         0\n",
       "3  31  Female   26      8.00000             160.00000                1     bellow_1_year               0                   0      2630.00000      136         0\n",
       "4  39    Male   45      8.00000             124.00000                1  between_1_2_year               1                   0     42297.00000      264         0"
      ]
     },
     "execution_count": 36,
     "metadata": {},
     "output_type": "execute_result"
    }
   ],
   "source": [
    "df3.head()"
   ]
  },
  {
   "cell_type": "code",
   "execution_count": null,
   "id": "a0b4250b",
   "metadata": {},
   "outputs": [],
   "source": []
  }
 ],
 "metadata": {
  "kernelspec": {
   "display_name": "Python 3 (ipykernel)",
   "language": "python",
   "name": "python3"
  },
  "language_info": {
   "codemirror_mode": {
    "name": "ipython",
    "version": 3
   },
   "file_extension": ".py",
   "mimetype": "text/x-python",
   "name": "python",
   "nbconvert_exporter": "python",
   "pygments_lexer": "ipython3",
   "version": "3.8.10"
  }
 },
 "nbformat": 4,
 "nbformat_minor": 5
}
